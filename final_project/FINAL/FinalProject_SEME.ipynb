{
  "cells": [
    {
      "cell_type": "markdown",
      "metadata": {
        "id": "rmKVkoFWJP6V"
      },
      "source": [
        "# SEME - Search Engine Manipulation Effect\n",
        "\n",
        "If you've been feeling a bit nervous lately about Google-and-the-Gang -> **Well, it's about time!**\n",
        "\n",
        "Google, and other tech companies in the U.S and China pose as serious threats to democracy.\n",
        "\n",
        "In this day and age, information flows at an unmeasurable speed. Due to the rapid evolution of the internet, our society and social standards have changed drastically. It is fair to say that our lives are highly influenced by Big Tech Internet companies such as Amazon, Google, Facebook and other social media platforms, if not controlled. We rely on \"the internet giants\". \n",
        "\n",
        "We have grown customed to the use of search engines: e.g. 'Google' on a daily basis.\n",
        "But are **we** aware of how they impact our mindset and beliefs?\n",
        "\n",
        "In this Notebook we will illustrate and manipulate data from a research done by Dr. Robert Epstein and Ronald E. Robersson in the years 2015-2017. This research: **\"The search engine manipulation effect (SEME) and its possible impact on the outcomes of elections\"** presents evidence from five experiments in two countries suggesting the power and robustness of SEME. Specifically, it shows that biased search rankings can shift the voting preferences of undecided voters, and that such rankings can be masked so that people show no awareness of the manipulation.\n",
        "\n",
        "\n",
        "\n",
        "> First things first: setting up the libraries needed!\n",
        "\n",
        "\n"
      ]
    },
    {
      "cell_type": "code",
      "execution_count": 42,
      "metadata": {
        "id": "QhP1MEI6JS7J"
      },
      "outputs": [],
      "source": [
        "import numpy as np\n",
        "import pandas as pd \n",
        "import matplotlib.pyplot as plt\n",
        "%matplotlib inline\n",
        "import seaborn as sn\n",
        "from sklearn.model_selection import train_test_split, GridSearchCV\n",
        "from sklearn.metrics import accuracy_score, confusion_matrix, recall_score, precision_score, r2_score, mean_squared_error\n",
        "from sklearn.feature_extraction.text import TfidfVectorizer\n",
        "from sklearn.svm import SVC\n",
        "from sklearn.model_selection import KFold\n",
        "from sklearn.model_selection import cross_val_score\n",
        "from sklearn.ensemble import RandomForestClassifier\n",
        "import xgboost as xgb"
      ]
    },
    {
      "cell_type": "markdown",
      "metadata": {
        "id": "WIK09eD69tRS"
      },
      "source": [
        "The dataset in hand is a pretty large one. It is one of 2 datasets provided with the SEME research. This one represents 3/5 of the experiments done by Ronald and Robert with a total of 3914 subjects. \n"
      ]
    },
    {
      "cell_type": "code",
      "execution_count": 43,
      "metadata": {
        "colab": {
          "base_uri": "https://localhost:8080/"
        },
        "id": "p9Gg4VdKLUfv",
        "outputId": "d6525615-e88d-4017-9000-5b734386e1e9"
      },
      "outputs": [
        {
          "data": {
            "text/plain": [
              "(3912, 114)"
            ]
          },
          "execution_count": 43,
          "metadata": {},
          "output_type": "execute_result"
        }
      ],
      "source": [
        "seme = pd.read_csv(\"seme.csv\", sep='\\t', header=0, encoding='latin1')\n",
        "seme.shape\n"
      ]
    },
    {
      "cell_type": "markdown",
      "metadata": {
        "id": "CnHP5R_eTS-Q"
      },
      "source": [
        "# Data Pre-processing\n",
        "When reading through the dataset we came across some buggy information and some timer errors. \n",
        "\n",
        "First we needed to create a new dataset using only the essential variables."
      ]
    },
    {
      "cell_type": "code",
      "execution_count": 44,
      "metadata": {
        "colab": {
          "base_uri": "https://localhost:8080/"
        },
        "id": "ehIL26-VZE5-",
        "outputId": "eeadb3a2-2dfd-4fbc-8544-a8dd33a3c296"
      },
      "outputs": [
        {
          "data": {
            "text/plain": [
              "(3912, 76)"
            ]
          },
          "execution_count": 44,
          "metadata": {},
          "output_type": "execute_result"
        }
      ],
      "source": [
        "seme_clean = seme[[\"GroupNumber\",\"CandidateOrder\",\n",
        "              \"Age\",\"Gender\",\"SearchesPerWeek\",\"EverSearched\",\"LastElection\",\n",
        "              \"PoliticalView\",\"FamiliarCandidate1\",\"FamiliarCandidate2\",\n",
        "              \"PreTestLikelyVoteBipolar\",'PreTestImpressionCandidate1','PreTestLikableCandidate1','PreTestTrustCandidate1','PreTestLikelyVoteCandidate1',  \n",
        "              \"PreTestVoteWhichCandidate\",\"PreTestVoteEitherCandidate\",\n",
        "              'PostTestImpressionCandidate1','PostTestLikableCandidate1','PostTestTrustCandidate1','PostTestLikelyVoteCandidate1',\n",
        "              \"PostTestLikelyVoteBipolar\",\n",
        "                'PreTestImpressionCandidate2','PreTestLikableCandidate2','PostTestImpressionCandidate2', 'PostTestLikableCandidate2','PreTestTrustCandidate2', 'PostTestTrustCandidate2',\n",
        "              \"PostTestLikelyVoteCandidate2\",\"PostTestVoteWhichCandidate\",\"PostTestVoteEitherCandidate\",'PreTestLikelyVoteCandidate2','PostTestLikelyVoteCandidate2',\n",
        "              \"Bothered\",\"BotheredText\",\"NumberOfClicks\",\"AvgSecPerPage\",\"TotalSearchTime\",\"Country\",\"Fluency\",\"ExpName\",\n",
        "              \"TimePage1\",\"TimePage2\",\"TimePage3\",\"TimePage4\",\"TimePage5\",\n",
        "              'Timer1','Timer2','Timer3','Timer4','Timer5','Timer6','Timer7','Timer8','Timer9','Timer10','Timer11','Timer12',\n",
        "                  'Timer13','Timer14','Timer15','Timer16','Timer17','Timer18','Timer19','Timer20','Timer21','Timer22','Timer23',\n",
        "                  'Timer24','Timer25','Timer26','Timer27','Timer28','Timer29','Timer30']]\n",
        "\n",
        "seme_clean.shape"
      ]
    },
    {
      "cell_type": "markdown",
      "metadata": {
        "id": "QBZQ6oAxzmTL"
      },
      "source": [
        "To prevent any corruption in the data we need to delete timer errors. \n",
        "\n",
        "To find them we check if TimePage[1:5] + Timer[1:30] == TotalSearchTime\n",
        "\n",
        "If this condition is not met it means that the testing for this user is not valid and therefore not presentable for our data analysis. \n",
        "\n"
      ]
    },
    {
      "cell_type": "code",
      "execution_count": 45,
      "metadata": {
        "colab": {
          "base_uri": "https://localhost:8080/"
        },
        "id": "-ZuMoOTiuQKR",
        "outputId": "8f0e1e3f-4179-4bd6-d063-fee2fed3666b"
      },
      "outputs": [
        {
          "name": "stdout",
          "output_type": "stream",
          "text": [
            "Corrupt data is in rows:  [49, 114, 122, 242, 542, 588, 869, 990, 1127, 1132, 1151, 1271, 1301, 1471, 1570, 1960, 2290, 2423, 3748, 3770]\n"
          ]
        }
      ],
      "source": [
        "corrupt = []\n",
        "for i, row in seme_clean.iterrows():\n",
        "    first = row['TimePage1']+ row[\"TimePage2\"]+ row[\"TimePage3\"]+ row[\"TimePage4\"]+ row[\"TimePage5\"]\n",
        "    second = row['Timer1']+ row['Timer2']+ row['Timer3']+ row['Timer4']+ row['Timer5']+ row['Timer6']+ row['Timer7']+ row['Timer8']+ row['Timer9']+ row['Timer10'] + row['Timer11'] + row['Timer12'] +row['Timer13'] +row['Timer14']+row['Timer15']+row['Timer16']+row['Timer17']+row['Timer18']+row['Timer19']+row['Timer20'] +row['Timer21']+row['Timer22']+row['Timer23']+row['Timer24']+row['Timer25']+row['Timer26']+row['Timer27']+row['Timer28']+row['Timer29']+row['Timer30']\n",
        "    if first + second != row['TotalSearchTime']:\n",
        "        corrupt.append(i)\n",
        "\n",
        "print('Corrupt data is in rows: ', corrupt)\n",
        "\n"
      ]
    },
    {
      "cell_type": "code",
      "execution_count": 46,
      "metadata": {
        "colab": {
          "base_uri": "https://localhost:8080/"
        },
        "id": "sXeAFjzzdsO4",
        "outputId": "63050db5-4354-4361-b669-346d9359411e"
      },
      "outputs": [
        {
          "name": "stdout",
          "output_type": "stream",
          "text": [
            "Corrupt data is in rows:  [49, 114, 122, 242, 542, 588, 869, 990, 1127, 1132, 1151, 1271, 1301, 1471, 1570, 1960, 2290, 2423, 3748, 3770]\n",
            "Line 49 has an error\n",
            "TimePages + Timers =  194.0\n",
            "Total Search Time =  156.0 \n",
            "\n",
            "Line 114 has an error\n",
            "TimePages + Timers =  107.0\n",
            "Total Search Time =  59.0 \n",
            "\n",
            "Line 48 shouldn't have an error\n",
            "TimePages + Timers =  904.0\n",
            "Total Search Time =  904.0 \n",
            "\n"
          ]
        }
      ],
      "source": [
        "print('Corrupt data is in rows: ', corrupt)\n",
        "print(\"Line 49 has an error\")\n",
        "print(\"TimePages + Timers = \",seme_clean.iloc[49,41:76].sum())\n",
        "print(\"Total Search Time = \",seme_clean.iloc[49,37],\"\\n\")\n",
        "\n",
        "print(\"Line 114 has an error\")\n",
        "print(\"TimePages + Timers = \",seme_clean.iloc[114,41:76].sum())\n",
        "print(\"Total Search Time = \",seme_clean.iloc[114,37],\"\\n\")\n",
        "\n",
        "print(\"Line 48 shouldn't have an error\")\n",
        "print(\"TimePages + Timers = \",seme_clean.iloc[48,41:76].sum())\n",
        "print(\"Total Search Time = \",seme_clean.iloc[48,37],\"\\n\")"
      ]
    },
    {
      "cell_type": "markdown",
      "metadata": {
        "id": "KgkGZKtW7ejA"
      },
      "source": [
        "Then we identify the missing data. \n",
        "\n",
        "We see that some values seem to be missing, oddly enough the number of indices is almost always 3. The variable \"Bothered Text\" is expected to be missing that many types since subjects would only have input text there if the former variable \"Bothered\" had the response \"Yes\".  \n",
        "\n",
        "\n"
      ]
    },
    {
      "cell_type": "code",
      "execution_count": 47,
      "metadata": {
        "colab": {
          "base_uri": "https://localhost:8080/"
        },
        "id": "KnxAhd0t0UwM",
        "outputId": "62d92355-b26a-4cc9-8b7d-3ea6e7ccf246"
      },
      "outputs": [
        {
          "name": "stdout",
          "output_type": "stream",
          "text": [
            "GroupNumber        0\n",
            "CandidateOrder     0\n",
            "Age                0\n",
            "Gender             3\n",
            "SearchesPerWeek    3\n",
            "                  ..\n",
            "Timer26            3\n",
            "Timer27            3\n",
            "Timer28            3\n",
            "Timer29            3\n",
            "Timer30            3\n",
            "Length: 76, dtype: int64\n"
          ]
        }
      ],
      "source": [
        "# to clean\n",
        "print(seme_clean.isnull().sum())\n",
        "\n",
        "arr = np.where(pd.isnull(seme_clean['TimePage1']))[0]\n",
        "# a list of variables with sum => 3\n",
        "var_3 = [\"Gender\",\"SearchesPerWeek\",\"EverSearched\",\"LastElection\",\n",
        "              \"PoliticalView\",\"FamiliarCandidate1\",\"FamiliarCandidate2\",\n",
        "              \"PreTestLikelyVoteBipolar\",\n",
        "              \"PreTestVoteWhichCandidate\",\"PreTestVoteEitherCandidate\",\n",
        "              \"PostTestLikelyVoteBipolar\",\n",
        "              \"PostTestLikelyVoteCandidate1\",\"PostTestLikelyVoteCandidate2\",\"PostTestVoteWhichCandidate\",\"PostTestVoteEitherCandidate\",\n",
        "              \"Bothered\",\"BotheredText\",\"NumberOfClicks\",\"AvgSecPerPage\",\"TotalSearchTime\",\"Country\",\"Fluency\"]"
      ]
    },
    {
      "cell_type": "markdown",
      "metadata": {
        "id": "VVEGItjK2hTM"
      },
      "source": [
        "We must find the 3 subjects with missing data to remove them from the dataset."
      ]
    },
    {
      "cell_type": "code",
      "execution_count": 48,
      "metadata": {
        "colab": {
          "base_uri": "https://localhost:8080/"
        },
        "id": "L-PnVYdqI1QW",
        "outputId": "f833a712-7768-41de-b122-c5832c3bf9b5"
      },
      "outputs": [
        {
          "name": "stdout",
          "output_type": "stream",
          "text": [
            "\n",
            "Missing data is in rows:  [1151, 1301, 1471]\n"
          ]
        }
      ],
      "source": [
        "for var in var_3:\n",
        "  t = np.where(pd.isnull(seme_clean[var]))[0] \n",
        "  for i in arr:\n",
        "    for j in t:\n",
        "      if i == j:\n",
        "        missing = list(arr)\n",
        "print()\n",
        "print('Missing data is in rows: ', missing)\n"
      ]
    },
    {
      "cell_type": "code",
      "execution_count": 49,
      "metadata": {
        "colab": {
          "base_uri": "https://localhost:8080/"
        },
        "id": "iY29t24uQh99",
        "outputId": "51cdedf0-7891-4af3-a6cb-6ede4e8b4e69"
      },
      "outputs": [
        {
          "name": "stdout",
          "output_type": "stream",
          "text": [
            "The data of row 1151 there is alot of NaN\n",
            "GroupNumber                       2\n",
            "CandidateOrder                    2\n",
            "Age                              25\n",
            "Gender                          NaN\n",
            "SearchesPerWeek                 NaN\n",
            "EverSearched                    NaN\n",
            "LastElection                    NaN\n",
            "PoliticalView                   NaN\n",
            "FamiliarCandidate1              NaN\n",
            "FamiliarCandidate2              NaN\n",
            "PreTestLikelyVoteBipolar        NaN\n",
            "PreTestImpressionCandidate1     NaN\n",
            "PreTestLikableCandidate1        NaN\n",
            "PreTestTrustCandidate1          NaN\n",
            "PreTestLikelyVoteCandidate1     NaN\n",
            "PreTestVoteWhichCandidate       NaN\n",
            "PreTestVoteEitherCandidate      NaN\n",
            "PostTestImpressionCandidate1    NaN\n",
            "PostTestLikableCandidate1       NaN\n",
            "PostTestTrustCandidate1         NaN\n",
            "\n",
            "The data from the row 1152 where nothing is missing or is NaN\n",
            "GroupNumber                                     1\n",
            "CandidateOrder                                  1\n",
            "Age                                            25\n",
            "Gender                                     Female\n",
            "SearchesPerWeek                               5.0\n",
            "EverSearched                                  Yes\n",
            "LastElection                                  Yes\n",
            "PoliticalView                   Moderate (centre)\n",
            "FamiliarCandidate1                            9.0\n",
            "FamiliarCandidate2                            2.0\n",
            "PreTestLikelyVoteBipolar                     -3.0\n",
            "PreTestImpressionCandidate1                  10.0\n",
            "PreTestLikableCandidate1                     10.0\n",
            "PreTestTrustCandidate1                        8.0\n",
            "PreTestLikelyVoteCandidate1                   0.0\n",
            "PreTestVoteWhichCandidate           David Cameron\n",
            "PreTestVoteEitherCandidate                    0.0\n",
            "PostTestImpressionCandidate1                  7.0\n",
            "PostTestLikableCandidate1                     8.0\n",
            "PostTestTrustCandidate1                       7.0\n"
          ]
        }
      ],
      "source": [
        "print(\"The data of row 1151 there is alot of NaN\")\n",
        "print(seme_clean.iloc[1151,0:20].to_string())\n",
        "print(\"\\nThe data from the row 1152 where nothing is missing or is NaN\")\n",
        "print(seme_clean.iloc[1152,0:20].to_string())\n"
      ]
    },
    {
      "cell_type": "markdown",
      "metadata": {
        "id": "5Wy3QC4KKeMd"
      },
      "source": [
        "\n",
        "\n",
        "We also want to get rid of subjects who rated their english fluency from 1 to 10 to be less then 5, since we think those cases might make our analysis less clear. \n",
        "\n",
        "\n"
      ]
    },
    {
      "cell_type": "code",
      "execution_count": 50,
      "metadata": {
        "id": "ankyG2mB2kZj"
      },
      "outputs": [],
      "source": [
        "clean_fluency = list(seme_clean[seme_clean['Fluency'] <= 5].index)"
      ]
    },
    {
      "cell_type": "markdown",
      "metadata": {
        "id": "-H89pOVoJzhz"
      },
      "source": [
        "For our representation of the matter we want to only focus on the users living in the United States. We there fore want to drop every subject who is not living in the US."
      ]
    },
    {
      "cell_type": "code",
      "execution_count": 51,
      "metadata": {
        "id": "pGq3sPX3Jz1A"
      },
      "outputs": [],
      "source": [
        "not_us = list(seme_clean[seme_clean['Country'] != 'United States'].index)\n"
      ]
    },
    {
      "cell_type": "markdown",
      "metadata": {
        "id": "dGZecUEC4Pmh"
      },
      "source": [
        "Now we remove allt the subjects with any missing data, corrupt data or low English fluency and the people who are not registered in USA. \n",
        "\n",
        "Finally we remove the columns used for finding the timer errors. \n"
      ]
    },
    {
      "cell_type": "code",
      "execution_count": 52,
      "metadata": {
        "colab": {
          "base_uri": "https://localhost:8080/"
        },
        "id": "rnEKqvVG4vg9",
        "outputId": "d9dec847-8609-48cb-e9a0-5581a2a3aff0"
      },
      "outputs": [
        {
          "data": {
            "text/plain": [
              "(3315, 46)"
            ]
          },
          "execution_count": 52,
          "metadata": {},
          "output_type": "execute_result"
        }
      ],
      "source": [
        "from pandas.core.reshape.concat import concat\n",
        "# concat all lists with data to remove\n",
        "to_remove = ((clean_fluency + missing) + corrupt) + not_us\n",
        "\n",
        "sc = seme_clean.drop(to_remove)\n",
        "\n",
        "sc = sc.drop(['Timer1','Timer2','Timer3','Timer4','Timer5','Timer6','Timer7','Timer8','Timer9','Timer10','Timer11','Timer12',\n",
        "                  'Timer13','Timer14','Timer15','Timer16','Timer17','Timer18','Timer19','Timer20','Timer21','Timer22','Timer23',\n",
        "                  'Timer24','Timer25','Timer26','Timer27','Timer28','Timer29','Timer30'], axis=1)\n",
        "sc.shape"
      ]
    },
    {
      "cell_type": "markdown",
      "metadata": {
        "id": "zfbDtIV0qLgw"
      },
      "source": [
        "We needed to add some columns to the dataset to make the process of the analysis and model training more intelligible.  \n",
        "\n",
        "First, we created the column `AgeGroup` which devides users into the age groups of *18-29*, *30-39*, *40-49*, *50-59*, *60-69*, and *70+*\n"
      ]
    },
    {
      "cell_type": "code",
      "execution_count": 53,
      "metadata": {
        "id": "VGkgPQz8qP3E"
      },
      "outputs": [],
      "source": [
        "def f(row):\n",
        "    if row['Age'] <= 29:\n",
        "        val = \"Group 1\"\n",
        "    elif row['Age'] > 29 and row['Age'] <= 39:\n",
        "        val = 'Group 2'\n",
        "    elif row['Age'] > 39 and row['Age'] <= 49:\n",
        "        val = 'Group 3'\n",
        "    elif row['Age'] > 49 and row['Age'] <= 59:\n",
        "        val = 'Group 4'\n",
        "    elif row['Age'] > 59 and row['Age'] <= 69:\n",
        "        val = 'Group 5'\n",
        "    else:\n",
        "        val = 'Group 6'\n",
        "    return val\n",
        "\n",
        "sc['AgeGroup'] = sc.apply(f, axis=1)\n",
        "    "
      ]
    },
    {
      "cell_type": "markdown",
      "metadata": {
        "id": "-vOkwQW7-M2X"
      },
      "source": [
        "Then we created the group `VoteChanged` which calculates if users' voting preference has changed in consequence of SEME.\n",
        "\n",
        "\n"
      ]
    },
    {
      "cell_type": "code",
      "execution_count": 54,
      "metadata": {
        "id": "pOInIreC-Nbn"
      },
      "outputs": [],
      "source": [
        "def which_candidate(row): \n",
        "    \"\"\"If vote changed then val = 1\"\"\"\n",
        "    if row['PreTestVoteWhichCandidate'] == row['PostTestVoteWhichCandidate']:   # if preVote and postVote are the same, individual did not change his mind on candidate\n",
        "        val = 0\n",
        "    else:\n",
        "        val = 1\n",
        "    return val\n",
        "\n",
        "sc['VoteChanged'] = sc.apply(which_candidate, axis=1)\n"
      ]
    },
    {
      "cell_type": "markdown",
      "metadata": {
        "id": "L92mxIC8-NpY"
      },
      "source": [
        "Finally, we created `VoteShift` which calculates the ratio of change of a users' voting preference."
      ]
    },
    {
      "cell_type": "code",
      "execution_count": 55,
      "metadata": {
        "id": "XwDlWd9q-NzC"
      },
      "outputs": [],
      "source": [
        "def vote_shift_c1(row):\n",
        "    val = (row['PostTestImpressionCandidate1'] - row['PreTestImpressionCandidate1']) + (\n",
        "        row['PostTestLikableCandidate1']-row['PreTestLikableCandidate1']) + (\n",
        "        row['PostTestTrustCandidate1']-row['PreTestTrustCandidate1']) + (\n",
        "            row['PostTestLikelyVoteCandidate1']-row['PreTestLikelyVoteCandidate1']) \n",
        "                # row['PostTestLikelyVoteBipolar']-row['PreTestLikelyVoteBipolar']\n",
        "    return val            \n",
        "\n",
        "                                    \n",
        "sc['VoteShift_C1'] = sc.apply(vote_shift_c1, axis=1)\n"
      ]
    },
    {
      "cell_type": "markdown",
      "metadata": {
        "id": "zZFEDCNfNcrW"
      },
      "source": [
        "# Data Analysis\n",
        "\n",
        "To set the \"SEME mood\" we will start off by showing some visualizations about usage of Search Engines. \n",
        "\n",
        "To better understand how these Search engines can effect peoples everyday lives, we want to clearify how frequently people are using them. \n",
        "\n",
        "A week before the user testing, each user was asked to count each time they used a Search Engine for that week.\n",
        "\n",
        "\n",
        "\n",
        "\n"
      ]
    },
    {
      "cell_type": "markdown",
      "metadata": {
        "id": "vdX5KMpfNthv"
      },
      "source": [
        "Lets take a look at some Statistics for Searches Per Week\n",
        "\n"
      ]
    },
    {
      "cell_type": "code",
      "execution_count": 56,
      "metadata": {
        "colab": {
          "base_uri": "https://localhost:8080/",
          "height": 424
        },
        "id": "BdtzL8OrUV3f",
        "outputId": "bc892811-d88d-487b-d6ba-f885b79ba6d6"
      },
      "outputs": [
        {
          "name": "stderr",
          "output_type": "stream",
          "text": [
            "/usr/local/lib/python3.7/dist-packages/seaborn/_decorators.py:43: FutureWarning: Pass the following variables as keyword args: x, y. From version 0.12, the only valid positional argument will be `data`, and passing other arguments without an explicit keyword will result in an error or misinterpretation.\n",
            "  FutureWarning\n"
          ]
        },
        {
          "data": {
            "image/png": "[encoded data removed]",
            "text/plain": [
              "<Figure size 1200x400 with 1 Axes>"
            ]
          },
          "metadata": {
            "needs_background": "light"
          },
          "output_type": "display_data"
        }
      ],
      "source": [
        "g1 = sc[sc['GroupNumber'] == 1]\n",
        "g2 = sc[sc['GroupNumber'] == 2]\n",
        "g3 = sc[sc['GroupNumber'] == 3]\n",
        " \n",
        "g1Age = g1[\"Age\"]\n",
        "g2Age = g2[\"Age\"]\n",
        "g3Age = g3[\"Age\"]\n",
        "groupAges = sc['Age']\n",
        "searchpw1 = g1[\"SearchesPerWeek\"]\n",
        "searchpw2 = g2[\"SearchesPerWeek\"]\n",
        "searchpw3 = g3[\"SearchesPerWeek\"]\n",
        "groupSpw = sc['SearchesPerWeek']\n",
        " \n",
        "fig,ax = plt.subplots(figsize=(15,5), dpi=80)\n",
        "sn.stripplot(groupAges,groupSpw,jitter=0.25,size=6,ax=ax)\n",
        "plt.show()"
      ]
    },
    {
      "cell_type": "markdown",
      "metadata": {
        "id": "TzzH35TiUVtR"
      },
      "source": [
        "Here we can see the distribution of Searches Per Week grouped by Age. It is a bit difficult to see which Age group 'Googles' the most. But as we can see the least number of times are with people over 60. \n",
        "\n",
        "But what about the distribution in Age Groups?\n"
      ]
    },
    {
      "cell_type": "code",
      "execution_count": 57,
      "metadata": {
        "colab": {
          "base_uri": "https://localhost:8080/"
        },
        "id": "y52bRHedxhCA",
        "outputId": "cee70052-4227-4dce-d2d0-8c04af531736"
      },
      "outputs": [
        {
          "name": "stdout",
          "output_type": "stream",
          "text": [
            "AgeGroup 1-6 Mean\n",
            "15.074122236671002\n",
            "16.047938638542664\n",
            "17.03970223325062\n",
            "15.175213675213675\n",
            "11.482758620689655\n",
            "11.3\n",
            "AgeGroup 1-6 std\n",
            "22.49466863844755\n",
            "23.25064965282427\n",
            "26.448267573180626\n",
            "23.501604021535368\n",
            "9.55992369942004\n",
            "11.585910984179593\n"
          ]
        }
      ],
      "source": [
        "def remove_outlier(df_in, col_name):\n",
        "    q1 = df_in[col_name].quantile(0.25)\n",
        "    q3 = df_in[col_name].quantile(0.75)\n",
        "    iqr = q3-q1 #Interquartile range\n",
        "    fence_low  = q1-1.5*iqr\n",
        "    fence_high = q3+1.5*iqr\n",
        "    df_out = df_in.loc[(df_in[col_name] > fence_low) & (df_in[col_name] < fence_high)]\n",
        "    return df_out\n",
        "\n",
        "ssc = remove_outlier(sc,\"SearchesPerWeek\")\n",
        "\n",
        "print(\"AgeGroup 1-6 Mean\")\n",
        "print(sc['SearchesPerWeek'].loc[sc[\"AgeGroup\"] == \"Group 1\"].mean())\n",
        "\n",
        "print(sc['SearchesPerWeek'].loc[sc[\"AgeGroup\"] == \"Group 2\"].mean())\n",
        "\n",
        "print(sc['SearchesPerWeek'].loc[sc[\"AgeGroup\"] == \"Group 3\"].mean())\n",
        "\n",
        "print(sc['SearchesPerWeek'].loc[sc[\"AgeGroup\"] == \"Group 4\"].mean())\n",
        "\n",
        "print(sc['SearchesPerWeek'].loc[sc[\"AgeGroup\"] == \"Group 5\"].mean())\n",
        "\n",
        "print(sc['SearchesPerWeek'].loc[sc[\"AgeGroup\"] == \"Group 6\"].mean())\n",
        "\n",
        "print(\"AgeGroup 1-6 std\")\n",
        "print(sc['SearchesPerWeek'].loc[sc[\"AgeGroup\"] == \"Group 1\"].std())\n",
        "\n",
        "print(sc['SearchesPerWeek'].loc[sc[\"AgeGroup\"] == \"Group 2\"].std())\n",
        "\n",
        "print(sc['SearchesPerWeek'].loc[sc[\"AgeGroup\"] == \"Group 3\"].std())\n",
        "\n",
        "print(sc['SearchesPerWeek'].loc[sc[\"AgeGroup\"] == \"Group 4\"].std())\n",
        "\n",
        "print(sc['SearchesPerWeek'].loc[sc[\"AgeGroup\"] == \"Group 5\"].std())\n",
        "\n",
        "print(sc['SearchesPerWeek'].loc[sc[\"AgeGroup\"] == \"Group 6\"].std())\n"
      ]
    },
    {
      "cell_type": "markdown",
      "metadata": {
        "id": "2JCzaw4iDPc9"
      },
      "source": [
        "The average mean for Searches seems to be highest for people in their 30's!"
      ]
    },
    {
      "cell_type": "code",
      "execution_count": 58,
      "metadata": {
        "colab": {
          "base_uri": "https://localhost:8080/",
          "height": 297
        },
        "id": "pMixp3UDMi7L",
        "outputId": "b79e2db0-2858-4ea5-fa0e-6d88b65e0d8a"
      },
      "outputs": [
        {
          "name": "stdout",
          "output_type": "stream",
          "text": [
            "Group 1-6\n"
          ]
        },
        {
          "data": {
            "image/png": "[encoded data removed]",
            "text/plain": [
              "<Figure size 432x288 with 1 Axes>"
            ]
          },
          "metadata": {
            "needs_background": "light"
          },
          "output_type": "display_data"
        }
      ],
      "source": [
        "print(\"Group 1-6\")\n",
        "\n",
        "meanList = []\n",
        "meanList.append(sc['SearchesPerWeek'].loc[sc[\"AgeGroup\"] == \"Group 1\"].mean())\n",
        "meanList.append(sc['SearchesPerWeek'].loc[sc[\"AgeGroup\"] == \"Group 2\"].mean())\n",
        "meanList.append(sc['SearchesPerWeek'].loc[sc[\"AgeGroup\"] == \"Group 3\"].mean())\n",
        "meanList.append(sc['SearchesPerWeek'].loc[sc[\"AgeGroup\"] == \"Group 4\"].mean())\n",
        "meanList.append(sc['SearchesPerWeek'].loc[sc[\"AgeGroup\"] == \"Group 5\"].mean())\n",
        "meanList.append(sc['SearchesPerWeek'].loc[sc[\"AgeGroup\"] == \"Group 6\"].mean())\n",
        "mean_list_with_outliers = []\n",
        "mean_list_with_outliers.append(ssc['SearchesPerWeek'].loc[ssc[\"AgeGroup\"] == \"Group 1\"].mean())\n",
        "mean_list_with_outliers.append(ssc['SearchesPerWeek'].loc[ssc[\"AgeGroup\"] == \"Group 2\"].mean())\n",
        "mean_list_with_outliers.append(ssc['SearchesPerWeek'].loc[ssc[\"AgeGroup\"] == \"Group 3\"].mean())\n",
        "mean_list_with_outliers.append(ssc['SearchesPerWeek'].loc[ssc[\"AgeGroup\"] == \"Group 4\"].mean())\n",
        "mean_list_with_outliers.append(ssc['SearchesPerWeek'].loc[ssc[\"AgeGroup\"] == \"Group 5\"].mean())\n",
        "mean_list_with_outliers.append(ssc['SearchesPerWeek'].loc[ssc[\"AgeGroup\"] == \"Group 6\"].mean())\n",
        "\n",
        "mycolors = [\"HotPink\",\"Yellow\"]\n",
        "mycolors2 = [\"#F85888\",\"#A890F0\"]\n",
        "\n",
        "N = 6\n",
        "ind = np.arange(N)\n",
        "width = 0.2\n",
        "\n",
        "fig = plt.figure()\n",
        "ax = fig.add_subplot(111)\n",
        "\n",
        "yvals = mean_list_with_outliers\n",
        "# rects1 = ax.bar(ind,yvals,width,color=(0.2, 0.4, 0.6, 0.6),label=\"Mean with outliers\")\n",
        "\n",
        "zvals = meanList\n",
        "rects2 = ax.bar(ind+width, zvals, width=0.6,color=mycolors2[0],label=\"Mean\")\n",
        "\n",
        "ax.set_xticks([0,1,2,3,4,5])\n",
        "ax.set_xticklabels([\"0\",\"18-29\",\"30-39\",\"40-49\",\"50-59\",\"60-69\",\"70+\"])\n",
        "ax.legend(loc=\"upper right\")\n",
        "ax.set_xlabel('Age Group')\n",
        "ax.set_ylabel('Average number of Searches')\n",
        "plt.show()"
      ]
    },
    {
      "cell_type": "markdown",
      "metadata": {
        "id": "vYlk-eDCeE-_"
      },
      "source": [
        "Much better to visualize! This bar plot shows the average number of searches grouped by the age groups. \n",
        "\n",
        "Perhaps people in their 30's are more vulnarable than others, due to how often they use search engines. \n",
        "\n",
        "How ever, we have confirmed that the average individual \"googles\" alot. If the Search Engine that people use everyday is a biased one, you can begin to imagine the incluence it could have on peoples mindset, especially on people who are unaware of the bias for the ranking of their Search results.\n",
        "\n",
        "Many research have shown that Internet search rankings have a significant impact on consumer choice, mainly because users trust and choose higher-ranked results more than lower-ranked results. \n",
        "But is there really that much of a difference between the first result (first webpage) and the second??"
      ]
    },
    {
      "cell_type": "code",
      "execution_count": 59,
      "metadata": {
        "colab": {
          "base_uri": "https://localhost:8080/",
          "height": 281
        },
        "id": "5HhQR5rhr3jU",
        "outputId": "065195b9-f8cb-4425-8829-b3a05b100c4c"
      },
      "outputs": [
        {
          "data": {
            "image/png": "[encoded data removed]",
            "text/plain": [
              "<Figure size 432x288 with 1 Axes>"
            ]
          },
          "metadata": {
            "needs_background": "light"
          },
          "output_type": "display_data"
        }
      ],
      "source": [
        "t1 = sc[\"TimePage1\"].mean()\n",
        "t2 = sc[\"TimePage2\"].mean()\n",
        "t3 = sc[\"TimePage3\"].mean()\n",
        "t4 = sc[\"TimePage4\"].mean()\n",
        "t5 = sc[\"TimePage5\"].mean()\n",
        "time_list = [t1,t2,t3,t4,t5]\n",
        "# print(time_list)\n",
        "plt.ylabel(\"Average time per search result page(s)\")\n",
        "plt.xlabel(\"Search result page\")\n",
        "plt.xticks([0,1,2,3,4],[\"Page 1\",\"Page 2\",\"Page 3\",\"Page 4\",\"Page 5\"])\n",
        "plt.plot(time_list,'o')\n",
        "plt.plot(time_list)\n",
        "plt.show()"
      ]
    },
    {
      "cell_type": "markdown",
      "metadata": {
        "id": "yB6si-fByHRi"
      },
      "source": [
        "Yes, and significally so. The average time spent on the first page compared to the second is more than double, almost triple. \n",
        "\n",
        "This graph shows the amount of time that subjects spent on each of the five search pages in the user test. As you can see subjects spent most of their time on the first page, which is a common result in Internet search engine research.\n",
        "\n",
        "But why do people to trust search engine companies to assign higher ranks to the results best suited to their needs, even though users generally have no idea how results get ranked? \n",
        "\n",
        "We think that part of the answer lies in the basic design of Search engine result page: the list. An item's position a list has a powerful and persuasive impact on subjects' recollection and evaluation of that item. "
      ]
    },
    {
      "cell_type": "markdown",
      "metadata": {
        "id": "oDB0XYbEBgZV"
      },
      "source": [
        "And now lets look at how the user tests were performed!\n",
        "\n",
        "Like said earlier, our dataset contains data for 3 different studies divided into 3 different groups. We decided to focus on Study 1 and Group 1 for the most part. For Study 1 - 3 the Groups were tested as follows:\n",
        "\n",
        "The Test for users in **Group 1** was done with a search ranking bias in favour of **David Cameron**, against Ed Milliband.\n",
        "\n",
        "The Test for Users in **Group 2** was done with a search ranking bias in favour of **Ed Milliband**, against Ed Milliband.\n",
        "\n",
        "The Test for Users in **Group 3** was a **Neutral** group with alternating search rankings.\n"
      ]
    },
    {
      "cell_type": "code",
      "execution_count": 60,
      "metadata": {
        "colab": {
          "base_uri": "https://localhost:8080/",
          "height": 606
        },
        "id": "zTu1HgHoBfTM",
        "outputId": "3a9a55c8-f297-4de9-af7d-35410c68278f"
      },
      "outputs": [
        {
          "data": {
            "image/png": "[encoded data removed]",
            "text/plain": [
              "<Figure size 360x720 with 1 Axes>"
            ]
          },
          "metadata": {
            "needs_background": "light"
          },
          "output_type": "display_data"
        }
      ],
      "source": [
        "g1 = sc[sc['GroupNumber'] == 1]\n",
        "g2 = sc[sc['GroupNumber'] == 2]\n",
        "g3 = sc[sc['GroupNumber'] == 3]\n",
        "\n",
        "def addtext(x,y):\n",
        "    for i in range(len(x)):\n",
        "        plt.text(i,y[i],y[i])\n",
        "\n",
        "len_list = [len(g1),len(g2),len(g3)]\n",
        "names = [\"Group 1\",\"Group 2\",\"Group 3\"]\n",
        "\n",
        "plt.figure(figsize=(5,10))\n",
        "plt.bar(names,len_list)\n",
        "addtext(names,len_list)\n",
        "plt.title('Number of people in each Group')\n",
        "plt.show()"
      ]
    },
    {
      "cell_type": "markdown",
      "metadata": {
        "id": "3-EdbETiyESV"
      },
      "source": [
        "**For the following examples we decided to represent data from Group 1.** That decision was made based on the fact that it has the highest number of participants and we thought it was best to present data from tests with a biased Search engine, rather than neutral.  \n",
        "\n",
        "Before the user test, subjects were given questions about each candidate and asked to rate their answers on the scale 0-10 of several topics. Which would \n",
        "then indicate their voting preference for this election. \n",
        "All of the users were eligible voters living in the United States, how ever the election chosen for this experiment was in fact an election for the Prime Minister of the United Kingdom. Each of the three experiments used 30 actual search results and corresponding Web pages relating to the election. Candidates for the election were David Cameron and Ed Miliband, and the order in which their names were presented was counterbalanced in all conditions.  This was done so voters' pre-impression of the candidates would be as unbiased as possible and realistic at the same time. \n",
        "\n",
        "Then users were given X time to browse \"who to vote\" using a Search Engine made by the team, which is a very detailed replica of the Google search engine. What the users didn't know was that the search result ranking could be biased, and part of the experiment was to check if users could detect the bias manipulation. \n",
        "\n",
        "After the test users were asked to rate their answers again on each topic regarding each candidate.  \n",
        "\n",
        "*Now enough with the reading and on to more visualizations!*\n",
        "\n",
        "Lets see how many undecided voters were likely to vote for each candidate: before the test using the Search Engine compared to the results after the test. \n",
        "\n"
      ]
    },
    {
      "cell_type": "code",
      "execution_count": 61,
      "metadata": {
        "colab": {
          "base_uri": "https://localhost:8080/",
          "height": 246
        },
        "id": "6p_UutNsyHVf",
        "outputId": "dbb770de-5b5c-4f19-aecd-04c7e5be028e"
      },
      "outputs": [
        {
          "data": {
            "image/png": "[encoded data removed]",
            "text/plain": [
              "<Figure size 432x288 with 2 Axes>"
            ]
          },
          "metadata": {},
          "output_type": "display_data"
        }
      ],
      "source": [
        "# Lets look at data from Experiementing with Group 1.\n",
        "# Before the test we want to see how many of undecided voters (percentage) were likely to vote for each candidate. \n",
        "pre_likely_bi = [(i >= 0) for i in g1['PreTestLikelyVoteBipolar']]\n",
        "milliband_pref = pre_likely_bi.count(False)/len(pre_likely_bi) \n",
        "cameron_pref = pre_likely_bi.count(True)/len(pre_likely_bi) \n",
        "\n",
        "plt.subplot(1,2,1) \n",
        "data = np.array([milliband_pref,cameron_pref])\n",
        "mylabels = [\"D. Cameron\", \"E. Miliband\"]\n",
        "\n",
        "plt.pie(data, labels=mylabels, shadow=True, autopct='%1.1f%%',colors=mycolors)\n",
        "# plt.legend(title='Preferance', loc='center')\n",
        "plt.title('Before Testing')\n",
        "# plt.show()  \n",
        "\n",
        "post_likely_bi = [(i >= 0) for i in g1['PostTestLikelyVoteBipolar']]\n",
        "milliband_preff = post_likely_bi.count(True)/len(post_likely_bi) \n",
        "cameron_preff = post_likely_bi.count(False)/len(post_likely_bi) \n",
        "plt.subplot(1,2,2)\n",
        "data11 = np.array([milliband_preff,cameron_preff])\n",
        "plt.pie(data11, labels=mylabels, shadow=True, autopct='%1.1f%%', colors=mycolors)\n",
        "# plt.legend(title='Preferance', loc='center')\n",
        "plt.title('After Testing')\n",
        "plt.tight_layout()\n",
        "plt.show()\n"
      ]
    },
    {
      "cell_type": "markdown",
      "metadata": {
        "id": "74KxhgBfMbZ1"
      },
      "source": [
        "As we can see from the pie charts, the voting preferences lean more towards David Cameron after testing than they did before. And since the user test for this group was biased in favor of David Cameron, it verifies our assumption, that the Search Engine results ranking can in fact alter peoples' mindsets and beliefs towards political candidates. \n"
      ]
    },
    {
      "cell_type": "markdown",
      "metadata": {
        "id": "pHRtbS8h5KoM"
      },
      "source": [
        "It is important to comprehend the use of the `Pre` and `Post` variables in the dataset. \n",
        "These columns represent users rating on the scale 0-10, on each candidate for some given observation. Pre columns are representative of user mindset before the test and the Post columns represent their mindset after the testing. \n",
        "\n",
        "Let's take a look at some of these essential variables: \n",
        "\n",
        "*   Pre- and Post **Impression** of Candidate 1 (David Cameron)  \n",
        "*   Pre- and Post **Likable** towards Candidate 1 (David Cameron)\n",
        "*   Pre- and Post **Trust** for Candidate 1 (David Cameron)\n",
        "\n",
        "In this example we will take two random users as an example of how the rating of these variables distribute. \n",
        "\n"
      ]
    },
    {
      "cell_type": "code",
      "execution_count": 62,
      "metadata": {
        "colab": {
          "base_uri": "https://localhost:8080/",
          "height": 374
        },
        "id": "_m4XT2Ik6alh",
        "outputId": "88276eb0-026c-4b4f-a04f-6f9eb6247a80"
      },
      "outputs": [
        {
          "data": {
            "image/png": "[encoded data removed]",
            "text/plain": [
              "<Figure size 432x432 with 1 Axes>"
            ]
          },
          "metadata": {
            "needs_background": "light"
          },
          "output_type": "display_data"
        },
        {
          "data": {
            "image/png": "[encoded data removed]",
            "text/plain": [
              "<Figure size 432x432 with 1 Axes>"
            ]
          },
          "metadata": {
            "needs_background": "light"
          },
          "output_type": "display_data"
        }
      ],
      "source": [
        "labels = np.array(['PreTestImpressionCandidate1','PreTestLikableCandidate1','PreTestTrustCandidate1',\n",
        "                'PostTestImpressionCandidate1','PostTestLikableCandidate1','PostTestTrustCandidate1',])\n",
        "points = g1.loc[123,labels].values\n",
        "\n",
        "angles = np.linspace(0, 2*np.pi, len(labels), endpoint=False)\n",
        "points = np.concatenate((points,[points[0]]))\n",
        "angles = np.concatenate((angles,[angles[0]]))\n",
        "fig = plt.figure(figsize=(7,7))\n",
        "ax = fig.add_subplot(121,polar=True)\n",
        "ax.plot(angles,points, 'o-', linewidth=2,color=\"b\")\n",
        "plt.yticks(size=10)\n",
        "plt.ylim(0)\n",
        "\n",
        "ax.fill(angles,points, alpha=0.25,color=\"g\")\n",
        "ax.set_thetagrids(angles * 180/np.pi, labels)\n",
        "ax.grid(True)\n",
        "\n",
        "labels = np.array(['PreTestImpressionCandidate1','PreTestLikableCandidate1','PreTestTrustCandidate1',\n",
        "                'PostTestImpressionCandidate1','PostTestLikableCandidate1','PostTestTrustCandidate1',])\n",
        "\n",
        "\n",
        "points = g1.loc[2,labels].values\n",
        "\n",
        "angles = np.linspace(0, 2*np.pi, len(labels), endpoint=False)\n",
        "points = np.concatenate((points,[points[0]]))\n",
        "angles = np.concatenate((angles,[angles[0]]))\n",
        "fig = plt.figure(figsize=(7,7))\n",
        "ax = fig.add_subplot(212,polar=True)\n",
        "ax.plot(angles,points, 'o-', linewidth=2,color=\"b\")\n",
        "plt.yticks(size=10)\n",
        "plt.ylim(0)\n",
        "\n",
        "ax.fill(angles,points, alpha=0.25,color=\"r\")\n",
        "ax.set_thetagrids(angles * 180/np.pi, labels)\n",
        "ax.grid(True)\n",
        "\n",
        "# plt.tight_layout()\n",
        "plt.show()"
      ]
    },
    {
      "cell_type": "markdown",
      "metadata": {
        "id": "UcXJLZdHWkiD"
      },
      "source": [
        "Here we see the difference of users rating on the pre and post testing variables. We see that Impressions stay the same which makes sense. \n",
        "\n",
        "But what is interesting to see is that for both subjects, rating for Likable and Trust went up 1 point after the testing. So after reading biased information through a biased ranking of search results, these two individuals gained more trust for David Cameron and liked him more. One might conclude that such influence from a Search engine could be used to captivate undecided voters. \n",
        "\n",
        "**Next up!**\n",
        "\n",
        "For the following examples we will take a look at groups 1 and 2. \n",
        "\n",
        "Now lets take a look at if users could in fact detect the bias for the search results. For this we will use the 'Bothered' and 'BotheredText' columns. \n",
        "For every 'Yes' response to the question if they were bothered by anything during the test, users were asked to give a written response for what bothered them. \n",
        "\n"
      ]
    },
    {
      "cell_type": "code",
      "execution_count": 63,
      "metadata": {
        "colab": {
          "base_uri": "https://localhost:8080/",
          "height": 331
        },
        "id": "TWIuPRLnA3kx",
        "outputId": "ec389578-bf77-49c9-9cbb-c5deb8f90453"
      },
      "outputs": [
        {
          "data": {
            "text/html": [
              "\n",
              "  <div id=\"df-52fa6f46-a034-45f9-a002-d579ce220dc6\">\n",
              "    <div class=\"colab-df-container\">\n",
              "      <div>\n",
              "<style scoped>\n",
              "    .dataframe tbody tr th:only-of-type {\n",
              "        vertical-align: middle;\n",
              "    }\n",
              "\n",
              "    .dataframe tbody tr th {\n",
              "        vertical-align: top;\n",
              "    }\n",
              "\n",
              "    .dataframe thead th {\n",
              "        text-align: right;\n",
              "    }\n",
              "</style>\n",
              "<table border=\"1\" class=\"dataframe\">\n",
              "  <thead>\n",
              "    <tr style=\"text-align: right;\">\n",
              "      <th></th>\n",
              "      <th>Bothered</th>\n",
              "      <th>BotheredText</th>\n",
              "    </tr>\n",
              "  </thead>\n",
              "  <tbody>\n",
              "    <tr>\n",
              "      <th>2</th>\n",
              "      <td>Yes</td>\n",
              "      <td>Favored David</td>\n",
              "    </tr>\n",
              "    <tr>\n",
              "      <th>3</th>\n",
              "      <td>Yes</td>\n",
              "      <td>I would prefer unbiased search results.</td>\n",
              "    </tr>\n",
              "    <tr>\n",
              "      <th>6</th>\n",
              "      <td>Yes</td>\n",
              "      <td>A lot of the articles seemed to be slanted tow...</td>\n",
              "    </tr>\n",
              "    <tr>\n",
              "      <th>7</th>\n",
              "      <td>Yes</td>\n",
              "      <td>I wouldn\\'t say it bothered me... But the sear...</td>\n",
              "    </tr>\n",
              "    <tr>\n",
              "      <th>11</th>\n",
              "      <td>Yes</td>\n",
              "      <td>They were all pro-Cameron</td>\n",
              "    </tr>\n",
              "    <tr>\n",
              "      <th>17</th>\n",
              "      <td>Yes</td>\n",
              "      <td>The media\\'s views towards the candidates seem...</td>\n",
              "    </tr>\n",
              "    <tr>\n",
              "      <th>21</th>\n",
              "      <td>Yes</td>\n",
              "      <td>There wasn\\'t one unbiased website</td>\n",
              "    </tr>\n",
              "    <tr>\n",
              "      <th>36</th>\n",
              "      <td>Yes</td>\n",
              "      <td>The search results were ordered based on the a...</td>\n",
              "    </tr>\n",
              "    <tr>\n",
              "      <th>37</th>\n",
              "      <td>Yes</td>\n",
              "      <td>They largely favored Cameron</td>\n",
              "    </tr>\n",
              "  </tbody>\n",
              "</table>\n",
              "</div>\n",
              "      <button class=\"colab-df-convert\" onclick=\"convertToInteractive('df-52fa6f46-a034-45f9-a002-d579ce220dc6')\"\n",
              "              title=\"Convert this dataframe to an interactive table.\"\n",
              "              style=\"display:none;\">\n",
              "        \n",
              "  <svg xmlns=\"http://www.w3.org/2000/svg\" height=\"24px\"viewBox=\"0 0 24 24\"\n",
              "       width=\"24px\">\n",
              "    <path d=\"M0 0h24v24H0V0z\" fill=\"none\"/>\n",
              "    <path d=\"M18.56 5.44l.94 2.06.94-2.06 2.06-.94-2.06-.94-.94-2.06-.94 2.06-2.06.94zm-11 1L8.5 8.5l.94-2.06 2.06-.94-2.06-.94L8.5 2.5l-.94 2.06-2.06.94zm10 10l.94 2.06.94-2.06 2.06-.94-2.06-.94-.94-2.06-.94 2.06-2.06.94z\"/><path d=\"M17.41 7.96l-1.37-1.37c-.4-.4-.92-.59-1.43-.59-.52 0-1.04.2-1.43.59L10.3 9.45l-7.72 7.72c-.78.78-.78 2.05 0 2.83L4 21.41c.39.39.9.59 1.41.59.51 0 1.02-.2 1.41-.59l7.78-7.78 2.81-2.81c.8-.78.8-2.07 0-2.86zM5.41 20L4 18.59l7.72-7.72 1.47 1.35L5.41 20z\"/>\n",
              "  </svg>\n",
              "      </button>\n",
              "      \n",
              "  <style>\n",
              "    .colab-df-container {\n",
              "      display:flex;\n",
              "      flex-wrap:wrap;\n",
              "      gap: 12px;\n",
              "    }\n",
              "\n",
              "    .colab-df-convert {\n",
              "      background-color: #E8F0FE;\n",
              "      border: none;\n",
              "      border-radius: 50%;\n",
              "      cursor: pointer;\n",
              "      display: none;\n",
              "      fill: #1967D2;\n",
              "      height: 32px;\n",
              "      padding: 0 0 0 0;\n",
              "      width: 32px;\n",
              "    }\n",
              "\n",
              "    .colab-df-convert:hover {\n",
              "      background-color: #E2EBFA;\n",
              "      box-shadow: 0px 1px 2px rgba(60, 64, 67, 0.3), 0px 1px 3px 1px rgba(60, 64, 67, 0.15);\n",
              "      fill: #174EA6;\n",
              "    }\n",
              "\n",
              "    [theme=dark] .colab-df-convert {\n",
              "      background-color: #3B4455;\n",
              "      fill: #D2E3FC;\n",
              "    }\n",
              "\n",
              "    [theme=dark] .colab-df-convert:hover {\n",
              "      background-color: #434B5C;\n",
              "      box-shadow: 0px 1px 3px 1px rgba(0, 0, 0, 0.15);\n",
              "      filter: drop-shadow(0px 1px 2px rgba(0, 0, 0, 0.3));\n",
              "      fill: #FFFFFF;\n",
              "    }\n",
              "  </style>\n",
              "\n",
              "      <script>\n",
              "        const buttonEl =\n",
              "          document.querySelector('#df-52fa6f46-a034-45f9-a002-d579ce220dc6 button.colab-df-convert');\n",
              "        buttonEl.style.display =\n",
              "          google.colab.kernel.accessAllowed ? 'block' : 'none';\n",
              "\n",
              "        async function convertToInteractive(key) {\n",
              "          const element = document.querySelector('#df-52fa6f46-a034-45f9-a002-d579ce220dc6');\n",
              "          const dataTable =\n",
              "            await google.colab.kernel.invokeFunction('convertToInteractive',\n",
              "                                                     [key], {});\n",
              "          if (!dataTable) return;\n",
              "\n",
              "          const docLinkHtml = 'Like what you see? Visit the ' +\n",
              "            '<a target=\"_blank\" href=https://colab.research.google.com/notebooks/data_table.ipynb>data table notebook</a>'\n",
              "            + ' to learn more about interactive tables.';\n",
              "          element.innerHTML = '';\n",
              "          dataTable['output_type'] = 'display_data';\n",
              "          await google.colab.output.renderOutput(dataTable, element);\n",
              "          const docLink = document.createElement('div');\n",
              "          docLink.innerHTML = docLinkHtml;\n",
              "          element.appendChild(docLink);\n",
              "        }\n",
              "      </script>\n",
              "    </div>\n",
              "  </div>\n",
              "  "
            ],
            "text/plain": [
              "   Bothered                                       BotheredText\n",
              "2       Yes                                      Favored David\n",
              "3       Yes            I would prefer unbiased search results.\n",
              "6       Yes  A lot of the articles seemed to be slanted tow...\n",
              "7       Yes  I wouldn\\'t say it bothered me... But the sear...\n",
              "11      Yes                          They were all pro-Cameron\n",
              "17      Yes  The media\\'s views towards the candidates seem...\n",
              "21      Yes                 There wasn\\'t one unbiased website\n",
              "36      Yes  The search results were ordered based on the a...\n",
              "37      Yes                       They largely favored Cameron"
            ]
          },
          "execution_count": 63,
          "metadata": {},
          "output_type": "execute_result"
        }
      ],
      "source": [
        "#\"Bothered\",\"BotheredText\"\n",
        "bothered_pd = sc[['Bothered','BotheredText']]\n",
        "bothered_yes = bothered_pd[bothered_pd['Bothered'] == 'Yes']\n",
        "bothered_no = bothered_pd[bothered_pd['Bothered'] == 'No']\n",
        "bothered_yes.head(9)"
      ]
    },
    {
      "cell_type": "markdown",
      "metadata": {
        "id": "3adHYgvJJ6L4"
      },
      "source": [
        "But how many people were aware and how many were totally oblivious to the fact that the Search Engine had a bias?\n",
        "\n"
      ]
    },
    {
      "cell_type": "code",
      "execution_count": 64,
      "metadata": {
        "colab": {
          "base_uri": "https://localhost:8080/",
          "height": 284
        },
        "id": "iL5DxsRJaWiY",
        "outputId": "31e18b9c-3a10-4aab-f357-24923921c0b8"
      },
      "outputs": [
        {
          "name": "stdout",
          "output_type": "stream",
          "text": [
            "Out of total 3315 people\n",
            "1901 were not bias aware\n"
          ]
        },
        {
          "data": {
            "image/png": "[encoded data removed]",
            "text/plain": [
              "<Figure size 432x288 with 1 Axes>"
            ]
          },
          "metadata": {},
          "output_type": "display_data"
        }
      ],
      "source": [
        "## folk aware vs ekki aware  \n",
        "options = ['biased', 'bias', 'leaning towards', 'leaning toward', 'leaning against', 'slanted', 'slanted toward', 'skewed', 'skewed toward', 'results favor', 'results favored', 'one sided','favorable toward', 'favorable towards', \n",
        "           'favorable for' , 'favorable against' , 'favorable results' , 'favored towards' , 'favored toward' ,'favored for','favored against' , 'favored results' ,'favour toward' , 'favourable towards' , 'favourable toward' ,\n",
        "           'favourable for' , 'favourable against' , 'favourable results' ,'favoured towards' , 'favoured toward' , 'favoured for' ,'favoured against' , 'favoured results' ,'favour toward' ,'results favour' , 'results favoured' ,\n",
        "           'favor Cameron', 'favor Miliband' , 'favour Cameron' , 'favour Miliband' , 'pro Cameron' , 'pro Miliband' ,'pro-Cameron' , 'pro-Miliband' ,'Cameron leaning'  , 'Miliband leaning' , 'negative toward', 'negative for' , \n",
        "           'negative against', 'postive toward', 'postive for' ,'postive against' , 'all postive', 'all negative' ,'mainly positive', 'mainly negative' , 'mostly positive' , 'mostly negative' , 'more negativity' ,\n",
        "           'nothing positive' , 'nothing negative' ,'more results for' , 'less results for' , 'most of the articles were negative' , 'most of the articles were positive']\n",
        "\n",
        "\n",
        "# selecting rows based on condition\n",
        "bias_count = 0\n",
        "for i in options:\n",
        "  bias_count+=bothered_pd['BotheredText'].str.contains(i).sum()\n",
        "\n",
        "\n",
        "\n",
        "print(\"Out of total {m} people\".format(m=bothered_pd.shape[0]))\n",
        "print(\"{m} were not bias aware\".format(m=(bothered_pd.shape[0]-bias_count)))\n",
        "cake = np.array([bias_count, bothered_no.shape[0]])\n",
        "explode = (0.1,0)\n",
        "labels = [\"Bias Aware\", \"Not Bias Aware\"]\n",
        "\n",
        "fig1, ax1 = plt.subplots()\n",
        "ax1.pie(cake, explode=explode, labels=labels, autopct='%1.1f%%',\n",
        "        shadow=True, startangle=270)\n",
        "ax1.axis('equal')  # Equal aspect ratio ensures that pie is drawn as a circle.\n",
        "\n",
        "plt.show()\n",
        "\n",
        "\n",
        "# df_corr = b_no[['PreTestImpressionCandidate1','PreTestLikableCandidate1','PreTestTrustCandidate1',\n",
        "#                 'PostTestImpressionCandidate1','PostTestLikableCandidate1','PostTestTrustCandidate1',]]\n"
      ]
    },
    {
      "cell_type": "markdown",
      "metadata": {
        "id": "fo4qbo1-HRgD"
      },
      "source": [
        "After evaluation, it seems to be that the manipulation through this search engine was subtle enough to fool 57.3% of the people who used it. \n",
        "\n",
        "That means that out of 3315 people, 1901 did not realize they were getting biased search results.\n",
        "\n",
        "Quite impressive and quite concerning. "
      ]
    },
    {
      "cell_type": "markdown",
      "metadata": {
        "id": "1OtHrFWL9wBZ"
      },
      "source": [
        "So let's say if someone was leaning more towards voting for Ed Miliband, could this type of manipulation influence that someone  to change his/hers mind and vote for David Cameron?\n",
        "\n",
        "Let's take a look at how many people changed their mind and voted for the bias favored candidate, after taking the test.\n",
        "In other words: **How many voters changed their vote because of SEME?**"
      ]
    },
    {
      "cell_type": "code",
      "execution_count": 65,
      "metadata": {
        "colab": {
          "base_uri": "https://localhost:8080/",
          "height": 247
        },
        "id": "pY5bLSA49t8f",
        "outputId": "bce01895-5093-48da-a9fe-40b3535fb58c"
      },
      "outputs": [
        {
          "data": {
            "image/png": "[encoded data removed]",
            "text/plain": [
              "<Figure size 432x288 with 1 Axes>"
            ]
          },
          "metadata": {},
          "output_type": "display_data"
        }
      ],
      "source": [
        "# g1_pd = g1[['Bothered','BotheredText']]\n",
        "# g1_yes = g1_pd[g1_pd['Bothered'] == 'Yes']\n",
        "# g1_no = g1[g1_pd['Bothered'] == 'No']\n",
        "\n",
        "count = sc.loc[sc['VoteChanged'] == 1].count()\n",
        "count2 = sc.loc[sc['VoteChanged'] == 0].count()\n",
        "vote_change = sc.loc[sc['VoteChanged'] == 1]\n",
        "count3 = vote_change.loc[vote_change['Bothered'] == 'No'].count()\n",
        "count4 = vote_change.loc[vote_change['Bothered'] == 'Yes'].count()\n",
        "\n",
        "\n",
        "cake = np.array([count['Age'],count2['Age']])\n",
        "explode = (0.1,0)\n",
        "labels = [\"Vote Changed\", \"Vote Same\"]\n",
        "\n",
        "fig1, ax1 = plt.subplots()\n",
        "ax1.pie(cake, explode=explode, labels=labels, autopct='%1.1f%%',\n",
        "        shadow=True, startangle=360, colors=mycolors2)\n",
        "ax1.axis('equal')  # Equal aspect ratio ensures that pie is drawn as a circle.\n",
        "\n",
        "plt.show()\n"
      ]
    },
    {
      "cell_type": "markdown",
      "metadata": {
        "id": "VNT2fHx_TXWX"
      },
      "source": [
        "**21.5 % of people from this study changed their minds on who to vote because their beliefs were changed with the use of a biased search engine.**\n",
        "\n",
        "\n"
      ]
    },
    {
      "cell_type": "markdown",
      "metadata": {
        "id": "_r-Ol9MlJ5f2"
      },
      "source": [
        "# Conclusion of Data Analysis\n",
        "\n",
        "This analysis demonstrates the influence biased Search result rankings have on peoples mindset and beliefs toward election candidates.\n",
        "It is fairly obvious that such search engines could affect, and perhaps already are affecting, the outcomes of close elections worldwide.\n",
        "Firstly, the analysis confirmed that more then half of people using those Search engines are unaware they are being manipulated, and tend to think instead that they have voluntarily adopted this new way of thinking. Such manipulations are obviously difficult to detect and most people are quite powerless trying to resist some flow of influence not visible to them. \n",
        "\n",
        "Shifts in voting preferences lead to change of beliefs, a change of voting for 20% of voters, which is a frightening number since most of elections today are won by a small margin, easily compattible with that percentage. \n",
        "\n",
        "The results suggest that a search engine company has the power to influence the results of elections. The impact of such manipulations would be especially large in countries dominated by a single search engine company, like Google for example. \n",
        "\n",
        "All in all: These results could be viewed as a great cause for concern. "
      ]
    },
    {
      "cell_type": "markdown",
      "metadata": {
        "id": "0fb_HeQQWl4p"
      },
      "source": [
        "# Machine Learning model - Training our models to predict the likelyhood of Vote Change\n",
        "\n",
        "We decided to make 3 models. Our goal will be to predict which of the two outcomes (vote change or not) is more likely to happen based on our variables (Supervised learning!). \n",
        "\n",
        "**Data properties:**\n",
        "*   Tabular\n",
        "*   Multivariate Dataset\n",
        "*   Data used for modelling consists of numerical variables\n",
        "*   Classification problem\n",
        "*   Minority class is ~ 22%\n",
        "\n",
        "Because of these properties we chose Random Forest Classifier and XGBoost. \n",
        "\n",
        "To test models accuracy we used the following methods:\n",
        "\n",
        "*   R-Squared test\n",
        "*   Cross-Validation\n",
        "*   Recall test\n",
        "*   Precision test\n",
        "*   Confusion Matrix\n",
        "\n"
      ]
    },
    {
      "cell_type": "code",
      "execution_count": 66,
      "metadata": {
        "id": "y3aOcDUlaTXb"
      },
      "outputs": [],
      "source": [
        "machine = sc \n",
        "machine = machine.dropna(axis=0, how='any')\n",
        "\n",
        "X = machine[['PreTestImpressionCandidate1','PreTestLikableCandidate1','PreTestTrustCandidate1','PreTestLikelyVoteBipolar',\n",
        "                'PostTestImpressionCandidate1','PostTestLikableCandidate1','PostTestTrustCandidate1','PostTestLikelyVoteBipolar']].values\n",
        "y = machine['VoteChanged']\n",
        "\n",
        "X_train, X_test, y_train, y_test = train_test_split(X, y, test_size = 0.2, random_state = 0)\n"
      ]
    },
    {
      "cell_type": "markdown",
      "metadata": {
        "id": "ZJEztgB3kDNP"
      },
      "source": [
        "For the X data variable we set all of the `Pre` and `Post` features of the dataset. And the target variable Y would be `VoteChanged`. The data was split into 80% training set and 20% test set. "
      ]
    },
    {
      "cell_type": "markdown",
      "metadata": {
        "id": "EFaNlMRnHoG3"
      },
      "source": [
        "### Random Forest Classification Model"
      ]
    },
    {
      "cell_type": "code",
      "execution_count": 67,
      "metadata": {
        "colab": {
          "base_uri": "https://localhost:8080/"
        },
        "id": "VYDoHKqM8XmP",
        "outputId": "8d357ff7-7988-4442-d6aa-3cc371153fbc"
      },
      "outputs": [
        {
          "name": "stdout",
          "output_type": "stream",
          "text": [
            "Accuracy= 0.9376899696048632\n",
            "R-Squared test:  0.6136340852130326\n",
            "Recall:  0.7368421052631579\n",
            "Precision:  0.9423076923076923\n"
          ]
        }
      ],
      "source": [
        "# RandomForestClassifier model\n",
        "rf = RandomForestClassifier(random_state=30)\n",
        "clf = rf.fit(X_train, y_train)\n",
        "data_predictions = rf.predict(X_test)\n",
        "accuracy = accuracy_score(y_test, data_predictions)\n",
        "print('Accuracy= '+ str(accuracy))\n",
        "\n",
        "cf_matrix = confusion_matrix(y_test, data_predictions)\n",
        "r2_rf = r2_score(y_test,data_predictions)\n",
        "print(\"R-Squared test: \", r2_rf)\n",
        "\n",
        "# print(\"Cross validation Score: \", cross)\n",
        "recall = recall_score(y_test,clf.predict(X_test))\n",
        "precision = precision_score(y_test,clf.predict(X_test),zero_division=0)\n",
        "print('Recall: ',recall)\n",
        "print('Precision: ',precision)"
      ]
    },
    {
      "cell_type": "markdown",
      "metadata": {
        "id": "mXQaGPTyfO20"
      },
      "source": [
        "Our model seem to have perfomed well. We would like to see the R-Squared test a bit higher but the precision is excellent and recall also good. We made a confusion matrix of the Random Forest Classifier to better visualize."
      ]
    },
    {
      "cell_type": "code",
      "execution_count": 68,
      "metadata": {
        "colab": {
          "base_uri": "https://localhost:8080/",
          "height": 283
        },
        "id": "EO6OCk4GfN4D",
        "outputId": "8db4579e-2027-419a-d5fc-dcfc1b8169e5"
      },
      "outputs": [
        {
          "data": {
            "text/plain": [
              "<matplotlib.axes._subplots.AxesSubplot at 0x7f7b545fd790>"
            ]
          },
          "execution_count": 68,
          "metadata": {},
          "output_type": "execute_result"
        },
        {
          "data": {
            "image/png": "[encoded data removed]",
            "text/plain": [
              "<Figure size 432x288 with 2 Axes>"
            ]
          },
          "metadata": {
            "needs_background": "light"
          },
          "output_type": "display_data"
        }
      ],
      "source": [
        "yaxis = [\"Negative\",\"Positive\"]\n",
        "xaxis = [\"Positive\",\"Negative\"]\n",
        "\n",
        "sn.heatmap(cf_matrix,annot=True,fmt='d',cmap=\"Blues\",xticklabels=xaxis,yticklabels=yaxis)"
      ]
    },
    {
      "cell_type": "markdown",
      "metadata": {
        "id": "p9ZPk5ECN2E-"
      },
      "source": [
        "### XG Boost Classifier"
      ]
    },
    {
      "cell_type": "code",
      "execution_count": 69,
      "metadata": {
        "colab": {
          "base_uri": "https://localhost:8080/",
          "height": 332
        },
        "id": "PW4tY54_N15K",
        "outputId": "b933e585-60e9-4681-e611-459fcd3105db"
      },
      "outputs": [
        {
          "name": "stdout",
          "output_type": "stream",
          "text": [
            "Accuracy:  0.9513677811550152\n",
            "R-Squared test:  0.6984461152882206\n"
          ]
        },
        {
          "data": {
            "image/png": "[encoded data removed]",
            "text/plain": [
              "<Figure size 432x288 with 1 Axes>"
            ]
          },
          "metadata": {
            "needs_background": "light"
          },
          "output_type": "display_data"
        }
      ],
      "source": [
        "xg = xgb.XGBClassifier(random_state=30)\n",
        "\n",
        "xg.fit(X_train, y_train)\n",
        "xg_pred = xg.predict(X_test)\n",
        "r2_xg = r2_score(y_test,xg_pred)\n",
        "accuracy_xg = accuracy_score(y_test, xg_pred)\n",
        "print('Accuracy: ', accuracy_xg)\n",
        "print(\"R-Squared test: \", r2_xg)\n",
        "xgb.plot_importance(xg)\n",
        "plt.show()"
      ]
    },
    {
      "cell_type": "markdown",
      "metadata": {
        "id": "XC1a5nfFUdMP"
      },
      "source": [
        "Here we can see importance of the features. The two features f3 `PreTestLikelyVoteBipolar` and f7 `PostTestLikelyVoteBipolar` are by no surprise the ones that offer the most predictive value. \n",
        "\n",
        "Negative numbers on the bipolar candidate preference scale `PreTestLikelyVoteBipolar` and `PostTestLikelyVoteBipolar` indicate a preference for Ed Milliband and positive numbers indicate a preference for David Cameron. \n",
        "\n",
        "The correlation between the two is understandibly a big factor in predicting if vote behavior changes or not. \n",
        "\n",
        "We then performed a 5-fold cross validation on the training data using GridSearchCV to find the best parameter values. \n",
        "We tuned the max_depth (values 2-8) and subsample (values 0.5, 0.6, 0.7, 0.8, 0.9, 1)"
      ]
    },
    {
      "cell_type": "code",
      "execution_count": 70,
      "metadata": {
        "colab": {
          "base_uri": "https://localhost:8080/"
        },
        "id": "2Dm2P5bsVLVD",
        "outputId": "c6905a32-bcf8-41c2-8ae2-b12a891de063"
      },
      "outputs": [
        {
          "name": "stdout",
          "output_type": "stream",
          "text": [
            "Final accuracy:  0.9620060790273556\n",
            "R-Squared test:  0.7644110275689223\n",
            "Best parameters for max_depth:  4\n",
            "Best parameters for subsample:  0.6\n"
          ]
        }
      ],
      "source": [
        "xgboost2 = xgb.XGBClassifier(random_state=30)\n",
        "param_gridB = [{'max_depth': [2,3,4,5,6,7,8], 'subsample': [0.5, 0.6, 0.7, 0.8, 0.9, 1]}]\n",
        "\n",
        "grid_search2 = GridSearchCV(xgboost2, param_gridB, cv=5)\n",
        "search_results = grid_search2.fit(X_train, y_train)\n",
        "\n",
        "final_model = grid_search2.best_estimator_\n",
        "\n",
        "final_predictions = final_model.predict(X_test)\n",
        "\n",
        "final_accuracy = accuracy_score(y_test, final_predictions)\n",
        "r2_xg2 = r2_score(y_test,final_predictions)\n",
        "print('Final accuracy: ', final_accuracy)\n",
        "print(\"R-Squared test: \", r2_xg2)\n",
        "print('Best parameters for max_depth: ',final_model.max_depth)\n",
        "print('Best parameters for subsample: ',final_model.subsample)"
      ]
    },
    {
      "cell_type": "markdown",
      "metadata": {
        "id": "8UKWcZk3vx-p"
      },
      "source": [
        "Having a multivariate dataset we had to do some more exploring.\n",
        "\n",
        "Just for the fun of it we wanted to experiment with training a model which is good at text classification, since we have can use \"BotheredText\" text box from users. We decided to train a Support Vector Machine. We wanted to see if we could create a classifier that given the answer from a text box, predicts if the user changed their vote. \n",
        "\n"
      ]
    },
    {
      "cell_type": "code",
      "execution_count": 71,
      "metadata": {
        "colab": {
          "base_uri": "https://localhost:8080/"
        },
        "id": "rGpire-JvxzO",
        "outputId": "9107f4df-3ce1-403f-d353-b17c2087d577"
      },
      "outputs": [
        {
          "name": "stdout",
          "output_type": "stream",
          "text": [
            "Accuracy for SVM:  0.8056537102473498\n"
          ]
        }
      ],
      "source": [
        "line = sc[sc['Bothered'] == 'Yes']\n",
        "lines = line['BotheredText']\n",
        "lines = lines.dropna(axis=0, how='any')\n",
        "target = line['VoteChanged']\n",
        "# print(target)\n",
        "vectorizer = TfidfVectorizer(max_features=2)\n",
        "XX = vectorizer.fit_transform(lines)\n",
        "\n",
        "XX_train, XX_test, YY_train, YY_test = train_test_split(XX, target, test_size= .2, random_state= 30)\n",
        "\n",
        "Svm = SVC(kernel='linear')\n",
        "\n",
        "Svm.fit(XX_train, YY_train)\n",
        "\n",
        "accuracy3 = Svm.score(XX_test, YY_test)\n",
        "print('Accuracy for SVM: ', accuracy3)\n"
      ]
    },
    {
      "cell_type": "markdown",
      "metadata": {
        "id": "ja9J9Imdr6nq"
      },
      "source": [
        "# Model Conclusion\n",
        "\n",
        "In conclusion we beleive our models performed well. There was not great difference between the accuracy of the models: \n",
        "\n",
        "\n",
        "*   Random Forest = 93.7%\n",
        "*   XGBoost = 95.1%\n",
        "*   XGBoost Final = 96.2%\n",
        "*   Support Vector Machine = 80.5%\n",
        "\n",
        "But according to the R-Squared test the best model performance was with the parameter tuned XGBoost model. \n",
        "The reason for the similarity between accuracy of the Random Forest and XGB models were due to the fact that the data is numeric and every value is on the scale 0-10. Prediction should be pretty straight forward working with such data, without noice or any bias variance, which made the use for highly advanced models on the subject unnecessary.  \n",
        "The SVM accuracy was also good but the least one, since working with text data is always a bit tricky."
      ]
    }
  ],
  "metadata": {
    "colab": {
      "collapsed_sections": [
        "ja9J9Imdr6nq"
      ],
      "name": "FinalProject_SEME.ipynb",
      "provenance": []
    },
    "kernelspec": {
      "display_name": "Python 3",
      "name": "python3"
    },
    "language_info": {
      "name": "python"
    }
  },
  "nbformat": 4,
  "nbformat_minor": 0
}
