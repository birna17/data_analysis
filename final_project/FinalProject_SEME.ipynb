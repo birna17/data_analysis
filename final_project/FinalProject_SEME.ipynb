{
  "cells": [
    {
      "cell_type": "markdown",
      "metadata": {
        "id": "rmKVkoFWJP6V"
      },
      "source": [
        "# SEME - Search Engine Manipulation Effect\n",
        "\n",
        "In this day and age information flows at an unmeasurable speed. Due to the rapid evolution of the internet, our society and social standards have changed drastically. It is fair to say that our lives are now highly influenced by Big Tech Internet companies such as Amazon, Google, Facebook and other social media platforms. \n",
        "\n",
        "Many of us have become customed to the use of search engines to search for information on a daily basis. The average person / general citizen relies on these search engines for common questions and daily wonderments, along with scientific facts and political preferences to name a few. But how the ranking of our search results appear to us is crucial. There have been many studies and experiments done on the subject that show how Internet search rankings have a significant impact on consumer choices, mainly because users trust and choose higher-ranked results more than lower-ranked results. \n",
        "\n",
        "In this Notebook we will demonstratehow the \n",
        "\n",
        "\n",
        "The US Presidential Election in 2016 left many people perplexed. \n",
        "\n",
        "![image.png](attachment:image.png)"
      ]
    },
    {
      "cell_type": "code",
      "execution_count": 3,
      "metadata": {
        "id": "QhP1MEI6JS7J"
      },
      "outputs": [],
      "source": [
        "import numpy as np\n",
        "import pandas as pd \n",
        "import matplotlib.pyplot as plt\n",
        "%matplotlib inline\n",
        "import seaborn as sn\n",
        "\n",
        "from sklearn.model_selection import train_test_split\n",
        "from sklearn.metrics import accuracy_score\n",
        "from sklearn.metrics import r2_score\n",
        "from sklearn.metrics import mean_squared_error\n",
        "from sklearn.model_selection import KFold\n",
        "from sklearn.model_selection import cross_val_score\n",
        "from sklearn.linear_model import LinearRegression\n",
        "from sklearn.ensemble import RandomForestRegressor\n"
      ]
    },
    {
      "cell_type": "markdown",
      "metadata": {
        "id": "IRhPGKhfK3ZE"
      },
      "source": [
        "(abstract tekið frá þeim um SEME, getum umorðað og tekið eitthvað ur þessum texta, eða vitnað í hann bara https://www.pnas.org/doi/10.1073/pnas.1419828112)\n",
        "* Internet search rankings have a significant impact on consumer choices, mainly because users trust and choose higher-ranked results more than lower-ranked results. Given the apparent power of search rankings, we asked whether they could be manipulated to alter the preferences of undecided voters in democratic elections. Here we report the results of five relevant double-blind, randomized controlled experiments, using a total of 4,556 undecided voters representing diverse demographic characteristics of the voting populations of the United States and India. The fifth experiment is especially notable in that it was conducted with eligible voters throughout India in the midst of India’s 2014 Lok Sabha elections just before the final votes were cast. The results of these experiments demonstrate that (i) biased search rankings can shift the voting preferences of undecided voters by 20% or more, (ii) the shift can be much higher in some demographic groups, and (iii) search ranking bias can be masked so that people show no awareness of the manipulation. We call this type of influence, which might be applicable to a variety of attitudes and beliefs, the search engine manipulation effect. Given that many elections are won by small margins, our results suggest that a search engine company has the power to influence the results of a substantial number of elections with impunity. The impact of such manipulations would be especially large in countries dominated by a single search engine company."
      ]
    },
    {
      "cell_type": "code",
      "execution_count": 4,
      "metadata": {
        "id": "p9Gg4VdKLUfv"
      },
      "outputs": [],
      "source": [
        "seme = pd.read_csv(\"bias_alerts_raw.csv\", sep='\\t', header=0, encoding='latin1')\n",
        "\n",
        "# seme.shape\n"
      ]
    },
    {
      "cell_type": "markdown",
      "metadata": {
        "id": "CnHP5R_eTS-Q"
      },
      "source": [
        "# Data Pre-processing\n",
        "When reading through this large dataset we came across some buggy information and some timer errors. \n",
        "\n",
        "First we needed to create a new dataset using only the essential variables.\n",
        "\n",
        "\n",
        "//FamiliarCandidate -> how familiar they are with the candidate (scale 1-10)\n"
      ]
    },
    {
      "cell_type": "code",
      "execution_count": 54,
      "metadata": {
        "id": "ehIL26-VZE5-"
      },
      "outputs": [
        {
          "data": {
            "text/html": [
              "<div>\n",
              "<style scoped>\n",
              "    .dataframe tbody tr th:only-of-type {\n",
              "        vertical-align: middle;\n",
              "    }\n",
              "\n",
              "    .dataframe tbody tr th {\n",
              "        vertical-align: top;\n",
              "    }\n",
              "\n",
              "    .dataframe thead th {\n",
              "        text-align: right;\n",
              "    }\n",
              "</style>\n",
              "<table border=\"1\" class=\"dataframe\">\n",
              "  <thead>\n",
              "    <tr style=\"text-align: right;\">\n",
              "      <th></th>\n",
              "      <th>GroupNumber</th>\n",
              "      <th>CandidateOrder</th>\n",
              "      <th>CandidateOrder1</th>\n",
              "      <th>CandidateOrder2</th>\n",
              "      <th>Age</th>\n",
              "      <th>Gender</th>\n",
              "      <th>SearchesPerWeek</th>\n",
              "      <th>EverSearched</th>\n",
              "      <th>LastElection</th>\n",
              "      <th>PoliticalView</th>\n",
              "      <th>...</th>\n",
              "      <th>Timer21</th>\n",
              "      <th>Timer22</th>\n",
              "      <th>Timer23</th>\n",
              "      <th>Timer24</th>\n",
              "      <th>Timer25</th>\n",
              "      <th>Timer26</th>\n",
              "      <th>Timer27</th>\n",
              "      <th>Timer28</th>\n",
              "      <th>Timer29</th>\n",
              "      <th>Timer30</th>\n",
              "    </tr>\n",
              "  </thead>\n",
              "  <tbody>\n",
              "    <tr>\n",
              "      <th>0</th>\n",
              "      <td>3</td>\n",
              "      <td>2</td>\n",
              "      <td>Ed Miliband</td>\n",
              "      <td>David Cameron</td>\n",
              "      <td>29</td>\n",
              "      <td>Male</td>\n",
              "      <td>9.0</td>\n",
              "      <td>Yes</td>\n",
              "      <td>Yes</td>\n",
              "      <td>Liberal (left)</td>\n",
              "      <td>...</td>\n",
              "      <td>0.0</td>\n",
              "      <td>0.0</td>\n",
              "      <td>0.0</td>\n",
              "      <td>0.0</td>\n",
              "      <td>3.0</td>\n",
              "      <td>0.0</td>\n",
              "      <td>0.0</td>\n",
              "      <td>0.0</td>\n",
              "      <td>0.0</td>\n",
              "      <td>2.0</td>\n",
              "    </tr>\n",
              "    <tr>\n",
              "      <th>1</th>\n",
              "      <td>1</td>\n",
              "      <td>1</td>\n",
              "      <td>David Cameron</td>\n",
              "      <td>Ed Miliband</td>\n",
              "      <td>53</td>\n",
              "      <td>Female</td>\n",
              "      <td>30.0</td>\n",
              "      <td>Yes</td>\n",
              "      <td>Yes</td>\n",
              "      <td>Conservative (right)</td>\n",
              "      <td>...</td>\n",
              "      <td>0.0</td>\n",
              "      <td>0.0</td>\n",
              "      <td>0.0</td>\n",
              "      <td>0.0</td>\n",
              "      <td>0.0</td>\n",
              "      <td>0.0</td>\n",
              "      <td>0.0</td>\n",
              "      <td>0.0</td>\n",
              "      <td>0.0</td>\n",
              "      <td>0.0</td>\n",
              "    </tr>\n",
              "    <tr>\n",
              "      <th>2</th>\n",
              "      <td>1</td>\n",
              "      <td>2</td>\n",
              "      <td>Ed Miliband</td>\n",
              "      <td>David Cameron</td>\n",
              "      <td>25</td>\n",
              "      <td>Male</td>\n",
              "      <td>5.0</td>\n",
              "      <td>Yes</td>\n",
              "      <td>Yes</td>\n",
              "      <td>Liberal (left)</td>\n",
              "      <td>...</td>\n",
              "      <td>0.0</td>\n",
              "      <td>0.0</td>\n",
              "      <td>0.0</td>\n",
              "      <td>0.0</td>\n",
              "      <td>0.0</td>\n",
              "      <td>0.0</td>\n",
              "      <td>0.0</td>\n",
              "      <td>0.0</td>\n",
              "      <td>0.0</td>\n",
              "      <td>0.0</td>\n",
              "    </tr>\n",
              "    <tr>\n",
              "      <th>3</th>\n",
              "      <td>1</td>\n",
              "      <td>2</td>\n",
              "      <td>Ed Miliband</td>\n",
              "      <td>David Cameron</td>\n",
              "      <td>26</td>\n",
              "      <td>Female</td>\n",
              "      <td>2.0</td>\n",
              "      <td>Yes</td>\n",
              "      <td>Yes</td>\n",
              "      <td>Liberal (left)</td>\n",
              "      <td>...</td>\n",
              "      <td>0.0</td>\n",
              "      <td>0.0</td>\n",
              "      <td>0.0</td>\n",
              "      <td>0.0</td>\n",
              "      <td>0.0</td>\n",
              "      <td>0.0</td>\n",
              "      <td>0.0</td>\n",
              "      <td>0.0</td>\n",
              "      <td>0.0</td>\n",
              "      <td>0.0</td>\n",
              "    </tr>\n",
              "    <tr>\n",
              "      <th>4</th>\n",
              "      <td>3</td>\n",
              "      <td>1</td>\n",
              "      <td>David Cameron</td>\n",
              "      <td>Ed Miliband</td>\n",
              "      <td>30</td>\n",
              "      <td>Male</td>\n",
              "      <td>10.0</td>\n",
              "      <td>Yes</td>\n",
              "      <td>Yes</td>\n",
              "      <td>Moderate (centre)</td>\n",
              "      <td>...</td>\n",
              "      <td>0.0</td>\n",
              "      <td>0.0</td>\n",
              "      <td>0.0</td>\n",
              "      <td>0.0</td>\n",
              "      <td>13.0</td>\n",
              "      <td>0.0</td>\n",
              "      <td>0.0</td>\n",
              "      <td>0.0</td>\n",
              "      <td>0.0</td>\n",
              "      <td>0.0</td>\n",
              "    </tr>\n",
              "  </tbody>\n",
              "</table>\n",
              "<p>5 rows × 63 columns</p>\n",
              "</div>"
            ],
            "text/plain": [
              "   GroupNumber  CandidateOrder CandidateOrder1 CandidateOrder2  Age  Gender  \\\n",
              "0            3               2     Ed Miliband   David Cameron   29    Male   \n",
              "1            1               1   David Cameron     Ed Miliband   53  Female   \n",
              "2            1               2     Ed Miliband   David Cameron   25    Male   \n",
              "3            1               2     Ed Miliband   David Cameron   26  Female   \n",
              "4            3               1   David Cameron     Ed Miliband   30    Male   \n",
              "\n",
              "   SearchesPerWeek EverSearched LastElection         PoliticalView  ...  \\\n",
              "0              9.0          Yes          Yes        Liberal (left)  ...   \n",
              "1             30.0          Yes          Yes  Conservative (right)  ...   \n",
              "2              5.0          Yes          Yes        Liberal (left)  ...   \n",
              "3              2.0          Yes          Yes        Liberal (left)  ...   \n",
              "4             10.0          Yes          Yes     Moderate (centre)  ...   \n",
              "\n",
              "   Timer21  Timer22  Timer23 Timer24  Timer25  Timer26  Timer27  Timer28  \\\n",
              "0      0.0      0.0      0.0     0.0      3.0      0.0      0.0      0.0   \n",
              "1      0.0      0.0      0.0     0.0      0.0      0.0      0.0      0.0   \n",
              "2      0.0      0.0      0.0     0.0      0.0      0.0      0.0      0.0   \n",
              "3      0.0      0.0      0.0     0.0      0.0      0.0      0.0      0.0   \n",
              "4      0.0      0.0      0.0     0.0     13.0      0.0      0.0      0.0   \n",
              "\n",
              "  Timer29  Timer30  \n",
              "0     0.0      2.0  \n",
              "1     0.0      0.0  \n",
              "2     0.0      0.0  \n",
              "3     0.0      0.0  \n",
              "4     0.0      0.0  \n",
              "\n",
              "[5 rows x 63 columns]"
            ]
          },
          "execution_count": 54,
          "metadata": {},
          "output_type": "execute_result"
        }
      ],
      "source": [
        "seme_clean = seme[[\"GroupNumber\",\"CandidateOrder\",\"CandidateOrder1\",\"CandidateOrder2\",\n",
        "              \"Age\",\"Gender\",\"SearchesPerWeek\",\"EverSearched\",\"LastElection\",\n",
        "              \"PoliticalView\",\"FamiliarCandidate1\",\"FamiliarCandidate2\",\n",
        "              \"PreTestLikelyVoteBipolar\",\n",
        "              \"PreTestVoteWhichCandidate\",\"PreTestVoteEitherCandidate\",\n",
        "              \"PostTestLikelyVoteBipolar\",\n",
        "              \"PostTestLikelyVoteCandidate1\",\"PostTestLikelyVoteCandidate2\",\"PostTestVoteWhichCandidate\",\"PostTestVoteEitherCandidate\",\n",
        "              \"Bothered\",\"BotheredText\",\t\"NumberOfClicks\",\"AvgSecPerPage\",\"TotalSearchTime\",\"Country\",\"Fluency\",\"ExpName\",\n",
        "              \"TimePage1\",\"TimePage2\",\"TimePage3\",\"TimePage4\",\"TimePage5\",\n",
        "              'Timer1','Timer2','Timer3','Timer4','Timer5','Timer6','Timer7','Timer8','Timer9','Timer10','Timer11','Timer12',\n",
        "                  'Timer13','Timer14','Timer15','Timer16','Timer17','Timer18','Timer19','Timer20','Timer21','Timer22','Timer23',\n",
        "                  'Timer24','Timer25','Timer26','Timer27','Timer28','Timer29','Timer30'\n",
        "              ]]\n",
        "seme_clean.head()\n",
        "\n"
      ]
    },
    {
      "cell_type": "markdown",
      "metadata": {
        "id": "QBZQ6oAxzmTL"
      },
      "source": [
        "To prevent any corruption in the data we need to delete timer errors. \n",
        "\n",
        "To find them we check if TimePage[1:5] + Timer[1:30] == TotalSearchTime\n",
        "\n",
        "If this condition is not met it means that the testing for this user is not valid and therefore not presentable for our data analysis. \n",
        "\n",
        "að prófunin á þessum einstakling hafi því miður ekki farið rétt fram og því ekki hægt að nota þessi gögn. \n",
        "\n"
      ]
    },
    {
      "cell_type": "code",
      "execution_count": 6,
      "metadata": {
        "colab": {
          "base_uri": "https://localhost:8080/"
        },
        "id": "-ZuMoOTiuQKR",
        "outputId": "997059fa-c11b-4abc-9813-2d8dd998dfd2"
      },
      "outputs": [
        {
          "name": "stdout",
          "output_type": "stream",
          "text": [
            "Corrupt data is in rows:  [49, 114, 122, 242, 542, 588, 869, 990, 1127, 1132, 1151, 1271, 1301, 1471, 1570, 1960, 2290, 2423, 3748, 3770]\n"
          ]
        }
      ],
      "source": [
        "corrupt = []\n",
        "for i, row in seme_clean.iterrows():\n",
        "    first = row['TimePage1']+ row[\"TimePage2\"]+ row[\"TimePage3\"]+ row[\"TimePage4\"]+ row[\"TimePage5\"]\n",
        "    second = row['Timer1']+ row['Timer2']+ row['Timer3']+ row['Timer4']+ row['Timer5']+ row['Timer6']+ row['Timer7']+ row['Timer8']+ row['Timer9']+ row['Timer10'] + row['Timer11'] + row['Timer12'] +row['Timer13'] +row['Timer14']+row['Timer15']+row['Timer16']+row['Timer17']+row['Timer18']+row['Timer19']+row['Timer20'] +row['Timer21']+row['Timer22']+row['Timer23']+row['Timer24']+row['Timer25']+row['Timer26']+row['Timer27']+row['Timer28']+row['Timer29']+row['Timer30']\n",
        "    if first + second != row['TotalSearchTime']:\n",
        "        corrupt.append(i)\n",
        "\n",
        "print('Corrupt data is in rows: ', corrupt)\n",
        "\n"
      ]
    },
    {
      "cell_type": "code",
      "execution_count": 7,
      "metadata": {
        "colab": {
          "base_uri": "https://localhost:8080/"
        },
        "id": "sXeAFjzzdsO4",
        "outputId": "f4c8a354-74bf-489d-d4c3-4377fbfbd7ed"
      },
      "outputs": [
        {
          "name": "stdout",
          "output_type": "stream",
          "text": [
            "Corrupt data is in rows:  [49, 114, 122, 242, 542, 588, 869, 990, 1127, 1132, 1151, 1271, 1301, 1471, 1570, 1960, 2290, 2423, 3748, 3770]\n",
            "Line 49 have an error\n",
            "194.0\n",
            "156.0 \n",
            "\n",
            "Line 114 have an error\n",
            "107.0\n",
            "59.0 \n",
            "\n",
            "Line 48 shouldn't have an error\n",
            "904.0\n",
            "904.0 \n",
            "\n"
          ]
        }
      ],
      "source": [
        "print('Corrupt data is in rows: ', corrupt)\n",
        "print(\"Line 49 have an error\")\n",
        "print(seme_clean.iloc[49,34:70].sum())\n",
        "print(seme_clean.iloc[49,30],\"\\n\")\n",
        "\n",
        "print(\"Line 114 have an error\")\n",
        "print(seme_clean.iloc[114,34:70].sum())\n",
        "print(seme_clean.iloc[114,30],\"\\n\")\n",
        "\n",
        "print(\"Line 48 shouldn't have an error\")\n",
        "print(seme_clean.iloc[48,34:70].sum())\n",
        "print(seme_clean.iloc[48,30],\"\\n\")"
      ]
    },
    {
      "cell_type": "markdown",
      "metadata": {
        "id": "KgkGZKtW7ejA"
      },
      "source": [
        "Then we identify the missing data. \n",
        "\n",
        "We see that some values seem to be missing, oddly enough the number of indices is almost always 3. The variable \"Bothered Text\" is expected to be missing that many types since subjects would only have input text there if the former variable \"Bothered\" had the response \"Yes\".  \n",
        "\n",
        "\n"
      ]
    },
    {
      "cell_type": "code",
      "execution_count": 55,
      "metadata": {
        "colab": {
          "base_uri": "https://localhost:8080/"
        },
        "id": "KnxAhd0t0UwM",
        "outputId": "89afa11a-38a9-4e63-a2ea-8616d07985e7"
      },
      "outputs": [
        {
          "name": "stdout",
          "output_type": "stream",
          "text": [
            "GroupNumber        0\n",
            "CandidateOrder     0\n",
            "CandidateOrder1    0\n",
            "CandidateOrder2    0\n",
            "Age                0\n",
            "                  ..\n",
            "Timer26            3\n",
            "Timer27            3\n",
            "Timer28            3\n",
            "Timer29            3\n",
            "Timer30            3\n",
            "Length: 63, dtype: int64\n"
          ]
        }
      ],
      "source": [
        "# to clean\n",
        "print(seme_clean.isnull().sum())\n",
        "\n",
        "arr = np.where(pd.isnull(seme_clean['Gender']))[0]\n",
        "# a list of variables with sum => 3\n",
        "var_3 = [\"Gender\",\"SearchesPerWeek\",\"EverSearched\",\"LastElection\",\n",
        "              \"PoliticalView\",\"FamiliarCandidate1\",\"FamiliarCandidate2\",\n",
        "              \"PreTestLikelyVoteBipolar\",\n",
        "              \"PreTestVoteWhichCandidate\",\"PreTestVoteEitherCandidate\",\n",
        "              \"PostTestLikelyVoteBipolar\",\n",
        "              \"PostTestLikelyVoteCandidate1\",\"PostTestLikelyVoteCandidate2\",\"PostTestVoteWhichCandidate\",\"PostTestVoteEitherCandidate\",\n",
        "              \"Bothered\",\"BotheredText\",\t\"NumberOfClicks\",\"AvgSecPerPage\",\"TotalSearchTime\",\"Country\",\"Fluency\"]"
      ]
    },
    {
      "cell_type": "markdown",
      "metadata": {
        "id": "VVEGItjK2hTM"
      },
      "source": [
        "We must find the 3 subjects with missing data to remove them from the dataset."
      ]
    },
    {
      "cell_type": "code",
      "execution_count": 9,
      "metadata": {
        "colab": {
          "base_uri": "https://localhost:8080/"
        },
        "id": "L-PnVYdqI1QW",
        "outputId": "d7ac3630-6d52-4c53-b4fb-6a062c774551"
      },
      "outputs": [
        {
          "name": "stdout",
          "output_type": "stream",
          "text": [
            "\n",
            "Missing data is in rows:  [1151, 1301, 1471]\n"
          ]
        }
      ],
      "source": [
        "for var in var_3:\n",
        "  t = np.where(pd.isnull(seme_clean[var]))[0] \n",
        "  for i in arr:\n",
        "    for j in t:\n",
        "      if i == j:\n",
        "        missing = list(arr)\n",
        "print()\n",
        "print('Missing data is in rows: ', missing)\n"
      ]
    },
    {
      "cell_type": "code",
      "execution_count": 10,
      "metadata": {
        "colab": {
          "base_uri": "https://localhost:8080/"
        },
        "id": "iY29t24uQh99",
        "outputId": "d38d9009-8654-48bd-da6a-9bcd0d8eae40"
      },
      "outputs": [
        {
          "name": "stdout",
          "output_type": "stream",
          "text": [
            "The data of row 1151 there is alot of NaN\n",
            "GroupNumber                                 2\n",
            "CandidateOrder                              2\n",
            "CandidateOrder1                   Ed Miliband\n",
            "CandidateOrder2                 David Cameron\n",
            "Age                                        25\n",
            "Gender                                    NaN\n",
            "SearchesPerWeek                           NaN\n",
            "EverSearched                              NaN\n",
            "LastElection                              NaN\n",
            "PoliticalView                             NaN\n",
            "FamiliarCandidate1                        NaN\n",
            "FamiliarCandidate2                        NaN\n",
            "PreTestImpressionCandidate1               NaN\n",
            "PreTestImpressionCandidate2               NaN\n",
            "PreTestLikelyVoteBipolar                  NaN\n",
            "PreTestLikelyVoteCandidate1               NaN\n",
            "PreTestLikelyVoteCandidate2               NaN\n",
            "PreTestVoteWhichCandidate                 NaN\n",
            "PreTestVoteEitherCandidate                NaN\n",
            "PostTestImpressionCandidate1              NaN\n",
            "\n",
            "The data from the row 1152 where nothing is missing or is NaN\n",
            "GroupNumber                                     1\n",
            "CandidateOrder                                  1\n",
            "CandidateOrder1                     David Cameron\n",
            "CandidateOrder2                       Ed Miliband\n",
            "Age                                            25\n",
            "Gender                                     Female\n",
            "SearchesPerWeek                               5.0\n",
            "EverSearched                                  Yes\n",
            "LastElection                                  Yes\n",
            "PoliticalView                   Moderate (centre)\n",
            "FamiliarCandidate1                            9.0\n",
            "FamiliarCandidate2                            2.0\n",
            "PreTestImpressionCandidate1                  10.0\n",
            "PreTestImpressionCandidate2                  10.0\n",
            "PreTestLikelyVoteBipolar                     -3.0\n",
            "PreTestLikelyVoteCandidate1                   0.0\n",
            "PreTestLikelyVoteCandidate2                   0.0\n",
            "PreTestVoteWhichCandidate           David Cameron\n",
            "PreTestVoteEitherCandidate                    0.0\n",
            "PostTestImpressionCandidate1                  7.0\n"
          ]
        }
      ],
      "source": [
        "print(\"The data of row 1151 there is alot of NaN\")\n",
        "print(seme_clean.iloc[1151,0:20].to_string())\n",
        "print(\"\\nThe data from the row 1152 where nothing is missing or is NaN\")\n",
        "print(seme_clean.iloc[1152,0:20].to_string())\n"
      ]
    },
    {
      "cell_type": "markdown",
      "metadata": {
        "id": "5Wy3QC4KKeMd"
      },
      "source": [
        "\n",
        "\n",
        "We also want to get rid of subjects who rated their english fluency from 1 to 10 to be less then 10, since we think those cases might make our analysis less clear. \n",
        "\n",
        "\n"
      ]
    },
    {
      "cell_type": "code",
      "execution_count": 11,
      "metadata": {
        "id": "ankyG2mB2kZj"
      },
      "outputs": [],
      "source": [
        "clean_fluency = list(seme_clean[seme_clean['Fluency'] <= 5].index)"
      ]
    },
    {
      "cell_type": "markdown",
      "metadata": {
        "id": "-H89pOVoJzhz"
      },
      "source": [
        "For our representation of the matter we want to only focus on the users living in the United States. We there fore want to drop every subject who is not living in the US."
      ]
    },
    {
      "cell_type": "code",
      "execution_count": 12,
      "metadata": {
        "id": "pGq3sPX3Jz1A"
      },
      "outputs": [],
      "source": [
        "not_us = list(seme_clean[seme_clean['Country'] != 'United States'].index)\n"
      ]
    },
    {
      "cell_type": "markdown",
      "metadata": {
        "id": "dGZecUEC4Pmh"
      },
      "source": [
        "Now we remove allt the subjects with any missing data, corrupt data or low English fluency and the people who are not registered in USA. \n",
        "\n",
        "Finally we remove the columns used for finding the timer errors. \n"
      ]
    },
    {
      "cell_type": "code",
      "execution_count": 56,
      "metadata": {
        "colab": {
          "base_uri": "https://localhost:8080/"
        },
        "id": "rnEKqvVG4vg9",
        "outputId": "e5a0b9b9-bea2-4fae-d843-4d9bf3ea6970"
      },
      "outputs": [
        {
          "data": {
            "text/plain": [
              "(3315, 28)"
            ]
          },
          "execution_count": 56,
          "metadata": {},
          "output_type": "execute_result"
        }
      ],
      "source": [
        "from pandas.core.reshape.concat import concat\n",
        "# concat all lists with data to remove\n",
        "to_remove = ((clean_fluency + missing) + corrupt) + not_us\n",
        "\n",
        "# print(len(to_remove))\n",
        "\n",
        "sc = seme_clean.drop(to_remove)\n",
        "sc = sc.drop([\"TimePage1\",\"TimePage2\",\"TimePage3\",\"TimePage4\",\"TimePage5\",\n",
        "              'Timer1','Timer2','Timer3','Timer4','Timer5','Timer6','Timer7','Timer8','Timer9','Timer10','Timer11','Timer12',\n",
        "                  'Timer13','Timer14','Timer15','Timer16','Timer17','Timer18','Timer19','Timer20','Timer21','Timer22','Timer23',\n",
        "                  'Timer24','Timer25','Timer26','Timer27','Timer28','Timer29','Timer30'], axis=1)\n",
        "sc.shape"
      ]
    },
    {
      "cell_type": "markdown",
      "metadata": {
        "id": "zZFEDCNfNcrW"
      },
      "source": [
        "# Analysis\n",
        "\n",
        "want to show how often people use search engines each week. \n",
        "\n",
        "\n"
      ]
    },
    {
      "cell_type": "code",
      "execution_count": null,
      "metadata": {
        "id": "PFMRxVcONfEn"
      },
      "outputs": [],
      "source": [
        "# Age group 18 - 29 years\n",
        "age_1 = sc['Age'].loc[sc['Age'] <= 29]\n",
        "age1 = sc[sc['Age'] <= 29]\n",
        "spw1 = [i for i in age1['SearchesPerWeek']]\n",
        "# Age group 30 - 40 years\n",
        "age_2 = sc['Age'].loc[(sc['Age'] > 29) & (sc['Age'] <= 39)]\n",
        "age2 = sc[(sc['Age'] > 29) & (sc['Age'] <= 39)]\n",
        "spw2 = [i for i in age2['SearchesPerWeek']]\n",
        "# Age group 40 - 50 years\n",
        "age_3 = sc['Age'].loc[(sc['Age'] > 39) & (sc['Age'] <= 49)] \n",
        "age3 = sc[(sc['Age'] > 39) & (sc['Age'] <= 49)]\n",
        "spw3 = [i for i in age3['SearchesPerWeek']]\n",
        "# Age group 50 - 60 years\n",
        "age_4 = sc['Age'].loc[(sc['Age']) > 49 & (sc['Age'] <= 59)]\n",
        "age4 = sc[(sc['Age']) > 49 & (sc['Age'] <= 59)]\n",
        "spw4 = [i for i in age4['SearchesPerWeek']]\n",
        "# Age group 60 - 70 years\n",
        "age_5 = sc['Age'].loc[(sc['Age'] > 59) & (sc['Age'] <= 69)]\n",
        "age5 = sc[(sc['Age'] > 59) & (sc['Age'] <= 69)]\n",
        "spw5 = [i for i in age5['SearchesPerWeek']]\n",
        "# Age group over 70 years\n",
        "age_6 = sc['Age'].loc[sc['Age'] > 69]\n",
        "age6 = sc[sc['Age'] > 69]\n",
        "spw6 = [i for i in age6['SearchesPerWeek']]\n",
        "\n",
        "#klára svo  fann ekki alveg nogu gott graph til að gera þetta\n",
        "age1df = pd.DataFrame({'Age1': age_1, 'Spw1': spw1})\n",
        "age2df = pd.DataFrame({'Age2': age_2, 'Spw2': spw2})\n",
        "age3df = pd.DataFrame({'Age3': age_3, 'Spw3': spw3})\n",
        "age4df = pd.DataFrame({'Age4': age_4, 'Spw4': spw4})\n",
        "age5df = pd.DataFrame({'Age5': age_5, 'Spw5': spw5})\n",
        "age6df = pd.DataFrame({'Age6': age_6, 'Spw6': spw6})\n",
        "\n",
        "# Means for Age groups\n",
        "means = {'Age_1': age1df['Spw1'].mean(), 'Age_2': age2df['Spw2'].mean(), 'Age_3': age3df['Spw3'].mean(), 'Age_4': age4df['Spw4'].mean(), 'Age_5': age5df['Spw5'].mean(), 'Age_6': age6df['Spw6'].mean()}\n",
        "\n",
        "# sc.groupby(['Age']).sum().plot(kind='kde', y='SearchesPerWeek', autopct='%1.0f%%')\n",
        "# Split into Group Studies \n",
        "\n",
        "og = sc[sc['ExpName'] == 'Original']\n",
        "b1 = sc[sc['ExpName'] == 'BiasAlert1']\n",
        "b2 = sc[sc['ExpName'] == 'BiasAlert2']\n",
        "# ax = sc.plot.bar(x='Age', y='SearchesPerWeek', rot=0)\n",
        "ax = age1.plot.hist(column=['SearchesPerWeek'], by='Gender', figsize=(10,8))"
      ]
    },
    {
      "cell_type": "code",
      "execution_count": 57,
      "metadata": {},
      "outputs": [
        {
          "name": "stdout",
          "output_type": "stream",
          "text": [
            "                              GroupNumber  CandidateOrder       Age  \\\n",
            "GroupNumber                      1.000000       -0.010108 -0.025759   \n",
            "CandidateOrder                  -0.010108        1.000000  0.003926   \n",
            "Age                             -0.025759        0.003926  1.000000   \n",
            "SearchesPerWeek                  0.004526        0.035478 -0.008288   \n",
            "FamiliarCandidate1               0.023131       -0.011806  0.087352   \n",
            "FamiliarCandidate2               0.029777       -0.052837 -0.006864   \n",
            "PreTestLikelyVoteBipolar        -0.024265       -0.056591  0.016395   \n",
            "PreTestVoteEitherCandidate            NaN             NaN       NaN   \n",
            "PostTestLikelyVoteBipolar       -0.036634       -0.097996 -0.014529   \n",
            "PostTestLikelyVoteCandidate1          NaN             NaN       NaN   \n",
            "PostTestLikelyVoteCandidate2          NaN             NaN       NaN   \n",
            "PostTestVoteEitherCandidate           NaN             NaN       NaN   \n",
            "NumberOfClicks                   0.024305        0.032980  0.129402   \n",
            "AvgSecPerPage                   -0.037604       -0.012086  0.128392   \n",
            "TotalSearchTime                 -0.008923        0.029314  0.269168   \n",
            "Fluency                         -0.001254        0.014320  0.018110   \n",
            "\n",
            "                              SearchesPerWeek  FamiliarCandidate1  \\\n",
            "GroupNumber                          0.004526            0.023131   \n",
            "CandidateOrder                       0.035478           -0.011806   \n",
            "Age                                 -0.008288            0.087352   \n",
            "SearchesPerWeek                      1.000000            0.060376   \n",
            "FamiliarCandidate1                   0.060376            1.000000   \n",
            "FamiliarCandidate2                   0.041016            0.549905   \n",
            "PreTestLikelyVoteBipolar             0.020771            0.003694   \n",
            "PreTestVoteEitherCandidate                NaN                 NaN   \n",
            "PostTestLikelyVoteBipolar            0.005597           -0.013934   \n",
            "PostTestLikelyVoteCandidate1              NaN                 NaN   \n",
            "PostTestLikelyVoteCandidate2              NaN                 NaN   \n",
            "PostTestVoteEitherCandidate               NaN                 NaN   \n",
            "NumberOfClicks                       0.019848            0.007069   \n",
            "AvgSecPerPage                       -0.030611            0.008367   \n",
            "TotalSearchTime                     -0.010199           -0.004750   \n",
            "Fluency                              0.031189           -0.017946   \n",
            "\n",
            "                              FamiliarCandidate2  PreTestLikelyVoteBipolar  \\\n",
            "GroupNumber                             0.029777                 -0.024265   \n",
            "CandidateOrder                         -0.052837                 -0.056591   \n",
            "Age                                    -0.006864                  0.016395   \n",
            "SearchesPerWeek                         0.041016                  0.020771   \n",
            "FamiliarCandidate1                      0.549905                  0.003694   \n",
            "FamiliarCandidate2                      1.000000                 -0.049112   \n",
            "PreTestLikelyVoteBipolar               -0.049112                  1.000000   \n",
            "PreTestVoteEitherCandidate                   NaN                       NaN   \n",
            "PostTestLikelyVoteBipolar              -0.028530                  0.624835   \n",
            "PostTestLikelyVoteCandidate1                 NaN                       NaN   \n",
            "PostTestLikelyVoteCandidate2                 NaN                       NaN   \n",
            "PostTestVoteEitherCandidate                  NaN                       NaN   \n",
            "NumberOfClicks                         -0.020031                  0.020242   \n",
            "AvgSecPerPage                          -0.012783                  0.016252   \n",
            "TotalSearchTime                        -0.046018                  0.035744   \n",
            "Fluency                                -0.097150                 -0.004889   \n",
            "\n",
            "                              PreTestVoteEitherCandidate  \\\n",
            "GroupNumber                                          NaN   \n",
            "CandidateOrder                                       NaN   \n",
            "Age                                                  NaN   \n",
            "SearchesPerWeek                                      NaN   \n",
            "FamiliarCandidate1                                   NaN   \n",
            "FamiliarCandidate2                                   NaN   \n",
            "PreTestLikelyVoteBipolar                             NaN   \n",
            "PreTestVoteEitherCandidate                           NaN   \n",
            "PostTestLikelyVoteBipolar                            NaN   \n",
            "PostTestLikelyVoteCandidate1                         NaN   \n",
            "PostTestLikelyVoteCandidate2                         NaN   \n",
            "PostTestVoteEitherCandidate                          NaN   \n",
            "NumberOfClicks                                       NaN   \n",
            "AvgSecPerPage                                        NaN   \n",
            "TotalSearchTime                                      NaN   \n",
            "Fluency                                              NaN   \n",
            "\n",
            "                              PostTestLikelyVoteBipolar  \\\n",
            "GroupNumber                                   -0.036634   \n",
            "CandidateOrder                                -0.097996   \n",
            "Age                                           -0.014529   \n",
            "SearchesPerWeek                                0.005597   \n",
            "FamiliarCandidate1                            -0.013934   \n",
            "FamiliarCandidate2                            -0.028530   \n",
            "PreTestLikelyVoteBipolar                       0.624835   \n",
            "PreTestVoteEitherCandidate                          NaN   \n",
            "PostTestLikelyVoteBipolar                      1.000000   \n",
            "PostTestLikelyVoteCandidate1                        NaN   \n",
            "PostTestLikelyVoteCandidate2                        NaN   \n",
            "PostTestVoteEitherCandidate                         NaN   \n",
            "NumberOfClicks                                 0.014880   \n",
            "AvgSecPerPage                                  0.005691   \n",
            "TotalSearchTime                                0.028667   \n",
            "Fluency                                       -0.016180   \n",
            "\n",
            "                              PostTestLikelyVoteCandidate1  \\\n",
            "GroupNumber                                            NaN   \n",
            "CandidateOrder                                         NaN   \n",
            "Age                                                    NaN   \n",
            "SearchesPerWeek                                        NaN   \n",
            "FamiliarCandidate1                                     NaN   \n",
            "FamiliarCandidate2                                     NaN   \n",
            "PreTestLikelyVoteBipolar                               NaN   \n",
            "PreTestVoteEitherCandidate                             NaN   \n",
            "PostTestLikelyVoteBipolar                              NaN   \n",
            "PostTestLikelyVoteCandidate1                           NaN   \n",
            "PostTestLikelyVoteCandidate2                           NaN   \n",
            "PostTestVoteEitherCandidate                            NaN   \n",
            "NumberOfClicks                                         NaN   \n",
            "AvgSecPerPage                                          NaN   \n",
            "TotalSearchTime                                        NaN   \n",
            "Fluency                                                NaN   \n",
            "\n",
            "                              PostTestLikelyVoteCandidate2  \\\n",
            "GroupNumber                                            NaN   \n",
            "CandidateOrder                                         NaN   \n",
            "Age                                                    NaN   \n",
            "SearchesPerWeek                                        NaN   \n",
            "FamiliarCandidate1                                     NaN   \n",
            "FamiliarCandidate2                                     NaN   \n",
            "PreTestLikelyVoteBipolar                               NaN   \n",
            "PreTestVoteEitherCandidate                             NaN   \n",
            "PostTestLikelyVoteBipolar                              NaN   \n",
            "PostTestLikelyVoteCandidate1                           NaN   \n",
            "PostTestLikelyVoteCandidate2                           NaN   \n",
            "PostTestVoteEitherCandidate                            NaN   \n",
            "NumberOfClicks                                         NaN   \n",
            "AvgSecPerPage                                          NaN   \n",
            "TotalSearchTime                                        NaN   \n",
            "Fluency                                                NaN   \n",
            "\n",
            "                              PostTestVoteEitherCandidate  NumberOfClicks  \\\n",
            "GroupNumber                                           NaN        0.024305   \n",
            "CandidateOrder                                        NaN        0.032980   \n",
            "Age                                                   NaN        0.129402   \n",
            "SearchesPerWeek                                       NaN        0.019848   \n",
            "FamiliarCandidate1                                    NaN        0.007069   \n",
            "FamiliarCandidate2                                    NaN       -0.020031   \n",
            "PreTestLikelyVoteBipolar                              NaN        0.020242   \n",
            "PreTestVoteEitherCandidate                            NaN             NaN   \n",
            "PostTestLikelyVoteBipolar                             NaN        0.014880   \n",
            "PostTestLikelyVoteCandidate1                          NaN             NaN   \n",
            "PostTestLikelyVoteCandidate2                          NaN             NaN   \n",
            "PostTestVoteEitherCandidate                           NaN             NaN   \n",
            "NumberOfClicks                                        NaN        1.000000   \n",
            "AvgSecPerPage                                         NaN       -0.139478   \n",
            "TotalSearchTime                                       NaN        0.476826   \n",
            "Fluency                                               NaN        0.034473   \n",
            "\n",
            "                              AvgSecPerPage  TotalSearchTime   Fluency  \n",
            "GroupNumber                       -0.037604        -0.008923 -0.001254  \n",
            "CandidateOrder                    -0.012086         0.029314  0.014320  \n",
            "Age                                0.128392         0.269168  0.018110  \n",
            "SearchesPerWeek                   -0.030611        -0.010199  0.031189  \n",
            "FamiliarCandidate1                 0.008367        -0.004750 -0.017946  \n",
            "FamiliarCandidate2                -0.012783        -0.046018 -0.097150  \n",
            "PreTestLikelyVoteBipolar           0.016252         0.035744 -0.004889  \n",
            "PreTestVoteEitherCandidate              NaN              NaN       NaN  \n",
            "PostTestLikelyVoteBipolar          0.005691         0.028667 -0.016180  \n",
            "PostTestLikelyVoteCandidate1            NaN              NaN       NaN  \n",
            "PostTestLikelyVoteCandidate2            NaN              NaN       NaN  \n",
            "PostTestVoteEitherCandidate             NaN              NaN       NaN  \n",
            "NumberOfClicks                    -0.139478         0.476826  0.034473  \n",
            "AvgSecPerPage                      1.000000         0.527414 -0.042647  \n",
            "TotalSearchTime                    0.527414         1.000000 -0.000928  \n",
            "Fluency                           -0.042647        -0.000928  1.000000  \n"
          ]
        }
      ],
      "source": [
        "def f(row):\n",
        "    if row['Age'] <= 29:\n",
        "        val = \"Group 1\"\n",
        "    elif row['Age'] > 29 & row['Age'] <= 39:\n",
        "        val = 'Group 2'\n",
        "    elif row['Age'] > 39 & row['Age'] <= 49:\n",
        "        val = 'Group 3'\n",
        "    elif row['Age'] > 49 & row['Age'] <= 59:\n",
        "        val = 'Group 4'\n",
        "    elif row['Age'] > 59 & row['Age'] <= 69:\n",
        "        val = 'Group 5'\n",
        "    else:\n",
        "        val = 'Group 6'\n",
        "    return val\n",
        "\n",
        "\n",
        "sc['AgeGroup'] = sc.apply(f, axis=1)\n",
        "\n",
        "\n",
        "# check for correlation between SearchPerWeek and Age\n",
        "\n",
        "print(sc.corr())"
      ]
    },
    {
      "cell_type": "markdown",
      "metadata": {
        "id": "vdX5KMpfNthv"
      },
      "source": [
        "- Negative numbers on the bipolar candidate preference scale `PreTestLikelyVoteBipolar` and `PostTestLikelyVoteBipolar` indicate a preference for Ed Milliband, positive numbers indicate a preference for David Cameron.\n",
        "- `PreVote`, `PostVote` are coded as 1 if the subject voted for the favored candidate:\n",
        "    + For Group 1, 1 if vote for Cameron, else 0\n",
        "    + For Group 2, 1 if vote for Miliband, else 0\n",
        "    + For Group 3, 1 if vote for Miliband, else 0\n",
        "\n",
        "- `VoteShift` is `PostVote - PreVote`. VMP is calculated as `VoteShift / PreVote`, see functions `vmp` for calculating VMP. `vmp.data` will calculate VMP for all factor levels in a group, e.g. gender: `vmp.data(study4, \"Gender\")`\n"
      ]
    },
    {
      "cell_type": "code",
      "execution_count": 64,
      "metadata": {
        "colab": {
          "base_uri": "https://localhost:8080/"
        },
        "id": "y52bRHedxhCA",
        "outputId": "129e0bfa-8a4e-4cce-f942-709ce2a06826"
      },
      "outputs": [
        {
          "name": "stdout",
          "output_type": "stream",
          "text": [
            "602\n",
            "nan\n"
          ]
        }
      ],
      "source": [
        "# Split into Group Studies \n",
        "\n",
        "og = sc[sc['ExpName'] == 'Original']\n",
        "b1 = sc[sc['ExpName'] == 'BiasAlert1']\n",
        "b2 = sc[sc['ExpName'] == 'BiasAlert2']\n",
        "\n",
        "g1 = sc[sc['GroupNumber'] == 1]\n",
        "# Lets look at data from Experiementing with Group 1.\n",
        "# The Test for Users in Group 1 was done with a search ranking bias in favour of David Cameron, against Ed Milliband.\n",
        "# Before the test we want to see how many of undecided voters (percentage) were likely to vote for each candidate. \n",
        "\n",
        "milliband_pref = [(i >= 0) for i in g1['PreTestLikelyVoteBipolar']].count(True) \n",
        "# cameron_pref = \n",
        "\n",
        "  \n",
        "# We check for correlation between 'PreTestLikelyVoteBipolar' and 'PostTestLikelyVoteBipolar' to \n",
        "#positive numbers in = preference for David Cameron\n",
        "# print(milliband_pref)\n",
        "\n",
        "print(sum([i for i in seme_clean['TimePage1']]))\n"
      ]
    },
    {
      "cell_type": "markdown",
      "metadata": {},
      "source": [
        "# pre_likely_bi2 = [(i >= 0) for i in g2['PreTestLikelyVoteBipolar']]\n",
        "# milliband_pref2 = pre_likely_bi2.count(False)/len(pre_likely_bi2) \n",
        "# cameron_pref2 = pre_likely_bi2.count(True)/len(pre_likely_bi2) \n",
        "\n",
        "# plt.subplot(222) \n",
        "# data2 = np.array([milliband_pref2,cameron_pref2])\n",
        "# mycolors2 = [\"#F85888\",\"#A890F0\"]\n",
        "# plt.pie(data2, labels=mylabels, shadow=True, autopct='%1.1f%%',colors=mycolors)\n",
        "# # plt.legend(title='Preferance', loc='center')\n",
        "# plt.title('Group 2')\n",
        "# # plt.show()   \n",
        "\n",
        "# pre_likely_bi3 = [(i >= 0) for i in g3['PreTestLikelyVoteBipolar']]\n",
        "# milliband_pref3 = pre_likely_bi3.count(False)/len(pre_likely_bi3) \n",
        "# cameron_pref3 = pre_likely_bi3.count(True)/len(pre_likely_bi3) \n",
        "\n",
        "# plt.subplot(223) \n",
        "# data3 = np.array([milliband_pref3,cameron_pref3])\n",
        "# plt.pie(data3, labels=mylabels, shadow=True, autopct='%1.1f%%',colors=mycolors)\n",
        "# # plt.legend(title='Preferance', loc='lower left')\n",
        "# plt.title('Group 3')\n",
        "\n",
        "\n",
        "\n",
        "post_likely_bi = [(i >= 0) for i in g1['PostTestLikelyVoteBipolar']]\n",
        "milliband_preff = post_likely_bi.count(False)/len(post_likely_bi) \n",
        "cameron_preff = post_likely_bi.count(True)/len(post_likely_bi) \n",
        "plt.subplot(221) \n",
        "data11 = np.array([milliband_preff,cameron_preff])\n",
        "plt.pie(data11, labels=mylabels, shadow=True, autopct='%1.1f%%', colors=mycolors)\n",
        "# plt.legend(title='Preferance', loc='center')\n",
        "plt.title('Cameron Biased')\n",
        "  \n",
        "\n",
        "post_likely_bi2 = [(i >= 0) for i in g2['PostTestLikelyVoteBipolar']]\n",
        "milliband_preff2 = post_likely_bi2.count(False)/len(post_likely_bi2) \n",
        "cameron_preff2 = post_likely_bi2.count(True)/len(post_likely_bi2) \n",
        "plt.subplot(222) \n",
        "data22 = np.array([milliband_preff2,cameron_preff2])\n",
        "plt.pie(data22, labels=mylabels, shadow=True, autopct='%1.1f%%', colors=mycolors)\n",
        "# plt.legend(title='Preferance', loc='center')\n",
        "plt.title('Miliband Biased')\n",
        "\n",
        "\n",
        "post_likely_bi3 = [(i >= 0) for i in g3['PostTestLikelyVoteBipolar']]\n",
        "milliband_preff3 = post_likely_bi3.count(False)/len(post_likely_bi3) \n",
        "cameron_preff3 = post_likely_bi3.count(True)/len(post_likely_bi3) \n",
        "plt.subplot(223) \n",
        "data33 = np.array([milliband_pref3,cameron_pref3])\n",
        "plt.pie(data33, labels=mylabels, shadow=True, autopct='%1.1f%%',colors=mycolors)\n",
        "# plt.legend(title='Preferance', loc='lower left')\n",
        "plt.title('Neutral')\n",
        "# plt.tight_layout(3)\n",
        "plt.show()   \n",
        "\n"
      ]
    },
    {
      "cell_type": "code",
      "execution_count": 20,
      "metadata": {},
      "outputs": [
        {
          "name": "stdout",
          "output_type": "stream",
          "text": [
            "(1085, 34) (1096, 34) (1134, 34)\n"
          ]
        }
      ],
      "source": [
        "\n"
      ]
    }
  ],
  "metadata": {
    "colab": {
      "collapsed_sections": [],
      "name": "FinalProject_SEME.ipynb",
      "provenance": []
    },
    "kernelspec": {
      "display_name": "Python 3",
      "name": "python3"
    },
    "language_info": {
      "codemirror_mode": {
        "name": "ipython",
        "version": 3
      },
      "file_extension": ".py",
      "mimetype": "text/x-python",
      "name": "python",
      "nbconvert_exporter": "python",
      "pygments_lexer": "ipython3",
      "version": "3.10.2"
    }
  },
  "nbformat": 4,
  "nbformat_minor": 0
}
